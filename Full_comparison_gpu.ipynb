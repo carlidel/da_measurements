{
 "cells": [
  {
   "cell_type": "markdown",
   "metadata": {},
   "source": [
    "# Comparison of different 4D DA estimation methods\n",
    "Based on M. Giovannozzi notes of January 9, 2020\n",
    "### Library setup"
   ]
  },
  {
   "cell_type": "code",
   "execution_count": 1,
   "metadata": {},
   "outputs": [],
   "source": [
    "# Base libraries\n",
    "import math\n",
    "import numpy as np\n",
    "import matplotlib\n",
    "import matplotlib.pyplot as plt\n",
    "import scipy.integrate as integrate\n",
    "from tqdm import tqdm\n",
    "from tqdm import tnrange\n",
    "from scipy.special import erf\n",
    "import pickle\n",
    "import itertools\n",
    "\n",
    "# Personal libraries\n",
    "import henon_tools as hm\n",
    "\n",
    "# Matplotlib Settings\n",
    "#plt.rc('text', usetex=True)\n",
    "#plt.rc('font', family='serif')\n",
    "matplotlib.rcParams['figure.dpi']= 100\n",
    "matplotlib.rcParams['savefig.dpi'] = 300"
   ]
  },
  {
   "cell_type": "markdown",
   "metadata": {},
   "source": [
    "## Generating the data\n",
    "### Setting up Hènon parameters"
   ]
  },
  {
   "cell_type": "code",
   "execution_count": 2,
   "metadata": {},
   "outputs": [],
   "source": [
    "epsilons = [8.0]#, 16.0, 32.0]\n",
    "n_turns = 10 ** 3\n",
    "\n",
    "turn_sampling = np.linspace(100, n_turns, 100, dtype=np.int_)[::-1]\n",
    "\n",
    "angle_sampling = np.array([9, 17, 33, 65])#, 129])\n",
    "d_r = 0.02\n",
    "\n",
    "with open(\"full_data/setup.pkl\", 'wb') as f:\n",
    "    pickle.dump((epsilons, n_turns, turn_sampling, angle_sampling), f)\n"
   ]
  },
  {
   "cell_type": "markdown",
   "metadata": {},
   "source": [
    "## 1.1 Direct integration"
   ]
  },
  {
   "cell_type": "code",
   "execution_count": 3,
   "metadata": {
    "scrolled": true
   },
   "outputs": [
    {
     "name": "stderr",
     "output_type": "stream",
     "text": [
      "  0%|                                                                                                                                                                                                          | 0/1 [00:00<?, ?it/s]\n",
      "  0%|                                                                                                                                                                                                          | 0/1 [00:00<?, ?it/s]\u001b[A\n",
      "100%|██████████████████████████████████████████████████████████████████████████████████████████████████████████████████████████████████████████████████████████████████████████████████████████████████| 1/1 [00:03<00:00,  3.07s/it]\u001b[A\n",
      "100%|██████████████████████████████████████████████████████████████████████████████████████████████████████████████████████████████████████████████████████████████████████████████████████████████████| 1/1 [00:03<00:00,  3.07s/it]\n"
     ]
    }
   ],
   "source": [
    "data_1 = {}\n",
    "DA_1 = {}\n",
    "for epsilon in tqdm(epsilons):\n",
    "    for i, fineness in tqdm(enumerate(angle_sampling), total=len(angle_sampling)):\n",
    "        # Coordinate generation\n",
    "        alpha_values = np.linspace(0.0, np.pi * 0.5, fineness)\n",
    "        theta1_values = np.linspace(0.0, np.pi * 2.0, fineness, endpoint=False)\n",
    "        theta2_values = np.linspace(0.0, np.pi * 2.0, fineness, endpoint=False)\n",
    "\n",
    "        d_alpha = alpha_values[1] - alpha_values[0]\n",
    "        d_theta1 = theta1_values[1] - theta1_values[0]\n",
    "        d_theta2 = theta2_values[1] - theta2_values[0]\n",
    "\n",
    "        alpha_mesh, theta1_mesh, theta2_mesh = np.meshgrid(alpha_values, theta1_values, theta2_values, indexing='ij')\n",
    "\n",
    "        alpha_flat = alpha_mesh.flatten()\n",
    "        theta1_flat = theta1_mesh.flatten()\n",
    "        theta2_flat = theta2_mesh.flatten()\n",
    "\n",
    "        # Data generation\n",
    "        henon_engine = hm.gpu_radial_scan(d_r, alpha_flat, theta1_flat, theta2_flat, epsilon)\n",
    "        radiuses = henon_engine.compute(turn_sampling)\n",
    "        radiuses = radiuses.reshape((fineness, fineness, fineness, len(turn_sampling)))\n",
    "        data_1[(epsilon, fineness)] = radiuses\n",
    "\n",
    "        # Computing DA\n",
    "        DA = []\n",
    "        mod_radiuses = radiuses.copy()\n",
    "        mod_radiuses = np.power(radiuses, 4)\n",
    "        mod_radiuses1 = integrate.romb(mod_radiuses, d_theta1, axis=1)\n",
    "        mod_radiuses2 = integrate.romb(mod_radiuses1, d_theta2, axis=1)\n",
    "\n",
    "        mod_radiuses3 = np.array([mod_radiuses2[i,:] * np.sin(2 * alpha_values[i]) for i in range(fineness)])\n",
    "        mod_radiuses4 = integrate.romb(mod_radiuses3, d_alpha, axis=0)\n",
    "\n",
    "        for i in range(len(turn_sampling)):\n",
    "            DA.append(\n",
    "                np.power(\n",
    "                    mod_radiuses4[i] / (2 * 2 * np.pi * np.pi),\n",
    "                    1/4\n",
    "                )\n",
    "            )\n",
    "        DA_1[(epsilon, fineness)] = np.asarray(DA)"
   ]
  },
  {
   "cell_type": "markdown",
   "metadata": {},
   "source": [
    "### Saving data"
   ]
  },
  {
   "cell_type": "code",
   "execution_count": 4,
   "metadata": {},
   "outputs": [],
   "source": [
    "with open(\"full_data/raw_data_1.pkl\", 'wb') as f:\n",
    "    pickle.dump(data_1, f)\n",
    "    \n",
    "with open(\"full_data/DA_1.pkl\", 'wb') as f:\n",
    "    pickle.dump(DA_1, f)"
   ]
  },
  {
   "cell_type": "markdown",
   "metadata": {},
   "source": [
    "## 1.2 Direct integration (with fixed coordinate sampling!)"
   ]
  },
  {
   "cell_type": "code",
   "execution_count": 5,
   "metadata": {},
   "outputs": [
    {
     "name": "stderr",
     "output_type": "stream",
     "text": [
      "  0%|                                                                                                                                                                                                          | 0/1 [00:00<?, ?it/s]\n",
      "  0%|                                                                                                                                                                                                          | 0/1 [00:00<?, ?it/s]\u001b[A\n",
      "100%|██████████████████████████████████████████████████████████████████████████████████████████████████████████████████████████████████████████████████████████████████████████████████████████████████| 1/1 [00:02<00:00,  2.37s/it]\u001b[A\n",
      "100%|██████████████████████████████████████████████████████████████████████████████████████████████████████████████████████████████████████████████████████████████████████████████████████████████████| 1/1 [00:02<00:00,  2.38s/it]\n"
     ]
    }
   ],
   "source": [
    "data_2 = {}\n",
    "DA_2 = {}\n",
    "for epsilon in tqdm(epsilons):\n",
    "    for i, fineness in tqdm(enumerate(angle_sampling), total=len(angle_sampling)):\n",
    "        # Coordinate generation\n",
    "        alpha_preliminary_values = np.linspace(-1.0, 1.0, fineness)\n",
    "        alpha_values = np.arccos(alpha_preliminary_values) / 2\n",
    "        theta1_values = np.linspace(0.0, np.pi * 2.0, fineness, endpoint=False)\n",
    "        theta2_values = np.linspace(0.0, np.pi * 2.0, fineness, endpoint=False)\n",
    "\n",
    "        d_preliminar_alpha = alpha_preliminary_values[1] - alpha_preliminary_values[0]\n",
    "        d_theta1 = theta1_values[1] - theta1_values[0]\n",
    "        d_theta2 = theta2_values[1] - theta2_values[0]\n",
    "\n",
    "        alpha_mesh, theta1_mesh, theta2_mesh = np.meshgrid(alpha_values, theta1_values, theta2_values, indexing='ij')\n",
    "\n",
    "        alpha_flat = alpha_mesh.flatten()\n",
    "        theta1_flat = theta1_mesh.flatten()\n",
    "        theta2_flat = theta2_mesh.flatten()\n",
    "\n",
    "        # Data generation\n",
    "        henon_engine = hm.gpu_radial_scan(d_r, alpha_flat, theta1_flat, theta2_flat, epsilon)\n",
    "        radiuses = henon_engine.compute(turn_sampling)\n",
    "        radiuses = radiuses.reshape((fineness, fineness, fineness, len(turn_sampling)))\n",
    "        data_2[(epsilon, fineness)] = radiuses\n",
    "\n",
    "        # Computing DA\n",
    "        DA = []\n",
    "        mod_radiuses = radiuses.copy()\n",
    "        mod_radiuses = np.power(radiuses, 4)\n",
    "        mod_radiuses1 = integrate.romb(mod_radiuses, d_theta1, axis=1)\n",
    "        mod_radiuses2 = integrate.romb(mod_radiuses1, d_theta2, axis=1)\n",
    "        mod_radiuses3 = integrate.romb(mod_radiuses2, d_preliminar_alpha, axis=0)\n",
    "\n",
    "        for i in range(len(turn_sampling)):\n",
    "            DA.append(\n",
    "                np.power(\n",
    "                    mod_radiuses3[i] / (2 * 2 * 2 * np.pi * np.pi),\n",
    "                    1/4\n",
    "                )\n",
    "            )\n",
    "        DA_2[(epsilon, fineness)] = np.asarray(DA)"
   ]
  },
  {
   "cell_type": "markdown",
   "metadata": {},
   "source": [
    "### Saving Data"
   ]
  },
  {
   "cell_type": "code",
   "execution_count": 6,
   "metadata": {},
   "outputs": [],
   "source": [
    "with open(\"full_data/raw_data_2.pkl\", 'wb') as f:\n",
    "    pickle.dump(data_2, f)\n",
    "    \n",
    "with open(\"full_data/DA_2.pkl\", 'wb') as f:\n",
    "    pickle.dump(DA_2, f)"
   ]
  },
  {
   "cell_type": "markdown",
   "metadata": {},
   "source": [
    "## 1.2.bis Angular Average"
   ]
  },
  {
   "cell_type": "code",
   "execution_count": null,
   "metadata": {},
   "outputs": [],
   "source": [
    "data_aa = {}\n",
    "DA_aa = {}\n",
    "for epsilon in epsilons:\n",
    "    for i, fineness in tqdm(enumerate(angle_sampling), total=len(angle_sampling)):\n",
    "        # Coordinate generation\n",
    "        alpha_values = np.linspace(0.0, np.pi * 0.5, fineness)\n",
    "        d_alpha = alpha_values[1] - alpha_values[0]\n",
    "        \n",
    "        M = 10\n",
    "        theta_steps = np.linspace(0.0, np.pi * 2.0, M + 1)\n",
    "        d_theta = theta_steps[1] - theta_steps[0]\n",
    "        \n",
    "        # Data generation\n",
    "        henon_engine = hm.gpu_radial_scan(d_r)\n",
    "        radiuses = henon_engine.compute(turn_sampling)\n",
    "        # reload\n",
    "        for i in len(turn_sampling): # CHECK SHAPE!!\n",
    "            henon_engine = hm.gpu_full_track(radiuses[i, :], alpha, theta1, theta2, epsilon, turn_sampling[i])\n",
    "            t_r, t_alpha, t_theta1, t_theta2 = henon_engine.compute()\n",
    "            index_theta1 = np.asarray(t_theta1 / d_theta, dtype=np.int)\n",
    "            index_theta2 = np.asarray(t_theta2 / d_theta, dtype=np.int)\n",
    "            # t_r[n_iterations, n_sample]\n",
    "            for j in range(fineness):\n",
    "                r_matrix = np.zeros((len(turn_sampling), M, M))\n",
    "                for \n",
    "            \n",
    "            \n",
    "        \n",
    "\n",
    "    "
   ]
  },
  {
   "cell_type": "markdown",
   "metadata": {},
   "source": [
    "### Saving Data"
   ]
  },
  {
   "cell_type": "code",
   "execution_count": null,
   "metadata": {},
   "outputs": [],
   "source": []
  },
  {
   "cell_type": "markdown",
   "metadata": {},
   "source": [
    "## 1.3 2D scan"
   ]
  },
  {
   "cell_type": "code",
   "execution_count": 24,
   "metadata": {
    "scrolled": true
   },
   "outputs": [
    {
     "name": "stderr",
     "output_type": "stream",
     "text": [
      "100%|██████████████████████████████████████████████████████████████████████████████████████████████████████████████████████████████████████████████████████████████████████████████████████████████████| 1/1 [00:01<00:00,  1.69s/it]\n"
     ]
    }
   ],
   "source": [
    "data_3 = {}\n",
    "DA_3 = {}\n",
    "for epsilon in epsilons:\n",
    "    for i, fineness in tqdm(enumerate(angle_sampling**3), total=len(angle_sampling)):\n",
    "        # Coordinate generation\n",
    "        alpha_values = np.linspace(0.0, np.pi * 0.5, fineness)\n",
    "        d_alpha = alpha_values[1] - alpha_values[0]\n",
    "\n",
    "        # Data generation\n",
    "        henon_engine = hm.gpu_radial_scan(d_r, alpha_values, np.zeros(alpha_values.shape), np.zeros(alpha_values.shape), epsilon)\n",
    "        radiuses = henon_engine.compute(turn_sampling)\n",
    "        data_3[(epsilon, fineness)] = radiuses\n",
    "\n",
    "        # Computing DA\n",
    "        DA = np.power(integrate.simps(np.power(radiuses, 2), alpha_values, axis=0) / (np.pi * 0.5), 0.5)\n",
    "        DA_3[(epsilon, fineness)] = np.asarray(DA)"
   ]
  },
  {
   "cell_type": "markdown",
   "metadata": {},
   "source": [
    "### Saving data"
   ]
  },
  {
   "cell_type": "code",
   "execution_count": 11,
   "metadata": {},
   "outputs": [],
   "source": [
    "with open(\"full_data/raw_data_3.pkl\", 'wb') as f:\n",
    "    pickle.dump(data_3, f)\n",
    "    \n",
    "with open(\"full_data/DA_3.pkl\", 'wb') as f:\n",
    "    pickle.dump(DA_3, f)"
   ]
  },
  {
   "cell_type": "markdown",
   "metadata": {},
   "source": [
    "## Radial Monte Carlo approach"
   ]
  },
  {
   "cell_type": "markdown",
   "metadata": {},
   "source": [
    "### Uniform hypersphere point picking"
   ]
  },
  {
   "cell_type": "code",
   "execution_count": 12,
   "metadata": {},
   "outputs": [],
   "source": [
    "def unif_4d_sphere_point_picking():\n",
    "    \"\"\"source: http://mathworld.wolfram.com/HyperspherePointPicking.html\"\"\"\n",
    "    while True:\n",
    "        couple1 = np.random.rand(2) * 2.0 - 1.0\n",
    "        if np.sum(np.power(couple1, 2)) < 1.0:\n",
    "            break\n",
    "    while True:\n",
    "        couple2 = np.random.rand(2) * 2.0 - 1.0\n",
    "        if np.sum(np.power(couple1, 2)) < 1.0:\n",
    "            break\n",
    "            \n",
    "    x = couple1[0]\n",
    "    y = couple1[1]\n",
    "    z = couple2[0] * np.sqrt((1 - couple1[0]**2 - couple1[1]**2)/(couple2[0]**2 + couple2[1]**2))\n",
    "    w = couple2[1] * np.sqrt((1 - couple1[0]**2 - couple1[1]**2)/(couple2[0]**2 + couple2[1]**2))\n",
    "    return hm.cartesian_to_polar_4d(x, y, z, w)"
   ]
  },
  {
   "cell_type": "markdown",
   "metadata": {},
   "source": [
    "### Actual execution"
   ]
  },
  {
   "cell_type": "code",
   "execution_count": 14,
   "metadata": {
    "scrolled": true
   },
   "outputs": [
    {
     "name": "stderr",
     "output_type": "stream",
     "text": [
      "  0%|                                                                                                                                                                                                          | 0/1 [00:00<?, ?it/s]\n",
      "  0%|                                                                                                                                                                                                          | 0/1 [00:00<?, ?it/s]\u001b[A\n",
      "100%|██████████████████████████████████████████████████████████████████████████████████████████████████████████████████████████████████████████████████████████████████████████████████████████████████| 1/1 [00:02<00:00,  2.41s/it]\u001b[A\n",
      "100%|██████████████████████████████████████████████████████████████████████████████████████████████████████████████████████████████████████████████████████████████████████████████████████████████████| 1/1 [00:02<00:00,  2.42s/it]\n"
     ]
    }
   ],
   "source": [
    "data_4 = {}\n",
    "DA_4 = {}\n",
    "for epsilon in tqdm(epsilons):\n",
    "    for i, fineness in tqdm(enumerate(angle_sampling**3), total=len(angle_sampling)):\n",
    "        # Coordinate generation\n",
    "        generator = [unif_4d_sphere_point_picking() for i in range(fineness)]\n",
    "        alpha = np.array([d[1] - np.pi for d in generator])\n",
    "        theta1 = np.array([d[2] for d in generator])\n",
    "        theta2 = np.array([d[3] for d in generator])\n",
    "\n",
    "        # Data generation\n",
    "        henon_engine = hm.gpu_radial_scan(d_r, alpha, theta1, theta2, epsilon)\n",
    "        radiuses = henon_engine.compute(turn_sampling)\n",
    "        data_4[(epsilon, fineness)] = radiuses\n",
    "\n",
    "        # Computing DA\n",
    "        DA = np.power(np.average(np.power(radiuses, 4), axis=0), 1/4)\n",
    "        DA_4[(epsilon, fineness)] = np.asarray(DA)"
   ]
  },
  {
   "cell_type": "markdown",
   "metadata": {},
   "source": [
    "### Saving data"
   ]
  },
  {
   "cell_type": "code",
   "execution_count": 15,
   "metadata": {},
   "outputs": [],
   "source": [
    "with open(\"full_data/raw_data_4.pkl\", 'wb') as f:\n",
    "    pickle.dump(data_4, f)\n",
    "    \n",
    "with open(\"full_data/DA_4.pkl\", 'wb') as f:\n",
    "    pickle.dump(DA_4, f)"
   ]
  },
  {
   "cell_type": "markdown",
   "metadata": {},
   "source": [
    "## Loading data (if necessary)"
   ]
  },
  {
   "cell_type": "code",
   "execution_count": 16,
   "metadata": {},
   "outputs": [],
   "source": [
    "with open(\"full_data/setup.pkl\", 'rb') as f:\n",
    "    epsilon, n_turns, turn_sampling, angle_sampling = pickle.load(f)\n",
    "\n",
    "with open(\"full_data/DA_1.pkl\", 'rb') as f:\n",
    "    DA_1 = pickle.load(f)\n",
    "\n",
    "with open(\"full_data/DA_2.pkl\", 'rb') as f:\n",
    "    DA_2 = pickle.load(f)    \n",
    "    \n",
    "with open(\"full_data/DA_3.pkl\", 'rb') as f:\n",
    "    DA_3 = pickle.load(f)    \n",
    "\n",
    "with open(\"full_data/DA_4.pkl\", 'rb') as f:\n",
    "    DA_4 = pickle.load(f)"
   ]
  },
  {
   "cell_type": "markdown",
   "metadata": {},
   "source": [
    "## Plotting 📈📉📊\n",
    "setting up the colors!"
   ]
  },
  {
   "cell_type": "code",
   "execution_count": 17,
   "metadata": {},
   "outputs": [],
   "source": [
    "color = [\"C0\", \"C1\", \"C2\", \"C3\", \"C4\", \"C5\"]"
   ]
  },
  {
   "cell_type": "markdown",
   "metadata": {},
   "source": [
    "### A simple comparison"
   ]
  },
  {
   "cell_type": "code",
   "execution_count": 23,
   "metadata": {},
   "outputs": [
    {
     "data": {
      "image/png": "[encoded data removed]",
      "text/plain": [
       "<Figure size 600x400 with 1 Axes>"
      ]
     },
     "metadata": {
      "needs_background": "light"
     },
     "output_type": "display_data"
    }
   ],
   "source": [
    "epsilon = epsilons[-1]\n",
    "fineness = angle_sampling[-1]\n",
    "\n",
    "plt.plot(turn_sampling, DA_1[(epsilon, fineness)], c=\"C0\", label=\"direct integration\")\n",
    "plt.plot(turn_sampling, DA_2[(epsilon, fineness)], c=\"C1\", label=\"direct fixed integration\")\n",
    "plt.plot(turn_sampling, DA_3[(epsilon, fineness**3)], c=\"C2\", label=\"2D integration\")\n",
    "plt.plot(turn_sampling, DA_4[(epsilon, fineness**3)], c=\"C3\", label=\"Monte Carlo\")\n",
    "\n",
    "plt.xlabel(\"N turns\")\n",
    "plt.ylabel(\"DA\")\n",
    "plt.legend(title=\"Method used\")\n",
    "\n",
    "plt.title(\"N of samples = {}, Epsilon = {:.2f}\".format(fineness**3, epsilon))\n",
    "plt.tight_layout()"
   ]
  },
  {
   "cell_type": "markdown",
   "metadata": {},
   "source": [
    "### Saving a full comparison"
   ]
  },
  {
   "cell_type": "code",
   "execution_count": 24,
   "metadata": {},
   "outputs": [
    {
     "data": {
      "text/plain": [
       "<Figure size 600x400 with 0 Axes>"
      ]
     },
     "metadata": {},
     "output_type": "display_data"
    }
   ],
   "source": [
    "for epsilon in epsilons:\n",
    "    for fineness in angle_sampling:\n",
    "        plt.plot(turn_sampling, DA_1[(epsilon, fineness)], c=\"C0\", label=\"direct integration\")\n",
    "        plt.plot(turn_sampling, DA_2[(epsilon, fineness)], c=\"C1\", label=\"direct fixed integration\")\n",
    "        plt.plot(turn_sampling, DA_3[(epsilon, fineness**3)], c=\"C2\", label=\"2D integration\")\n",
    "        plt.plot(turn_sampling, DA_4[(epsilon, fineness**3)], c=\"C3\", label=\"Monte Carlo\")\n",
    "\n",
    "        plt.xlabel(\"N turns\")\n",
    "        plt.ylabel(\"DA\")\n",
    "        plt.legend(title=\"Method used\")\n",
    "\n",
    "        plt.title(\"N of samples = {}, Epsilon = {:.2f}\".format(fineness**3, epsilon))\n",
    "        plt.tight_layout()\n",
    "        plt.savefig(\"img/comparison_eps_{:.2f}_samp_{}.png\".format(epsilon, fineness**3), dpi=300)\n",
    "        plt.clf()"
   ]
  },
  {
   "cell_type": "markdown",
   "metadata": {},
   "source": [
    "### Method 1"
   ]
  },
  {
   "cell_type": "code",
   "execution_count": 26,
   "metadata": {},
   "outputs": [
    {
     "data": {
      "text/plain": [
       "<Figure size 600x400 with 0 Axes>"
      ]
     },
     "metadata": {},
     "output_type": "display_data"
    }
   ],
   "source": [
    "for epsilon in epsilons:\n",
    "    for i, fineness in enumerate(angle_sampling[:-1]):\n",
    "        plt.plot(turn_sampling, DA_1[(epsilon, fineness)], c=color[i], label=fineness**3)\n",
    "\n",
    "    plt.plot(turn_sampling, DA_1[(epsilon, angle_sampling[-1])], c=\"black\", label=\"baseline ({})\".format(angle_sampling[-1]**3))\n",
    "\n",
    "    plt.xlabel(\"N turns\")\n",
    "    plt.ylabel(\"DA\")\n",
    "    plt.legend(fontsize=\"small\", title=\"N of samples\")\n",
    "\n",
    "    plt.title(\"4D integration, Epsilon = {:.2f}\".format(epsilon))\n",
    "    plt.tight_layout()\n",
    "    plt.savefig(\"img/4D_integration_eps_{:.2f}.png\".format(epsilon), DPI=300)\n",
    "    plt.clf()"
   ]
  },
  {
   "cell_type": "markdown",
   "metadata": {},
   "source": [
    "### Method 2"
   ]
  },
  {
   "cell_type": "code",
   "execution_count": 20,
   "metadata": {},
   "outputs": [
    {
     "data": {
      "text/plain": [
       "<Figure size 600x400 with 0 Axes>"
      ]
     },
     "metadata": {},
     "output_type": "display_data"
    }
   ],
   "source": [
    "for epsilon in epsilons:\n",
    "    for i, fineness in enumerate(angle_sampling**3):\n",
    "        plt.plot(turn_sampling, DA_3[(epsilon, fineness)], c=color[i], label=fineness)\n",
    "\n",
    "    plt.plot(turn_sampling, DA_1[(epsilon, angle_sampling[-1])], c=\"black\", label=\"baseline ({})\".format(angle_sampling[-1]**3))\n",
    "\n",
    "    plt.xlabel(\"N turns\")\n",
    "    plt.ylabel(\"DA\")\n",
    "    plt.legend(fontsize=\"small\", title=\"N of samples\")\n",
    "\n",
    "    plt.title(\"2D integration, Epsilon = {:.2f}\".format(epsilon))\n",
    "    plt.tight_layout()\n",
    "    plt.savefig(\"img/2D_integration_eps_{:.2f}.png\".format(epsilon), DPI=300)\n",
    "    plt.clf()"
   ]
  },
  {
   "cell_type": "markdown",
   "metadata": {},
   "source": [
    "### Method 3"
   ]
  },
  {
   "cell_type": "code",
   "execution_count": 21,
   "metadata": {},
   "outputs": [
    {
     "data": {
      "text/plain": [
       "<Figure size 600x400 with 0 Axes>"
      ]
     },
     "metadata": {},
     "output_type": "display_data"
    }
   ],
   "source": [
    "for epsilon in epsilons:\n",
    "    for i, fineness in enumerate(angle_sampling**3):\n",
    "        plt.plot(turn_sampling, DA_4[(epsilon, fineness)], c=color[i], label=fineness)\n",
    "\n",
    "    plt.plot(turn_sampling, DA_1[(epsilon, angle_sampling[-1])], c=\"black\", label=\"baseline ({})\".format(angle_sampling[-1]**3))\n",
    "\n",
    "    plt.xlabel(\"N turns\")\n",
    "    plt.ylabel(\"DA\")\n",
    "    plt.legend(fontsize=\"small\", title=\"N of samples\")\n",
    "\n",
    "    plt.title(\"Montecarlo, Epsilon = {:.2f}\".format(epsilon))\n",
    "    plt.tight_layout()\n",
    "    plt.savefig(\"img/montecarlo_eps_{:.2f}.png\".format(epsilon), DPI=300)\n",
    "    plt.clf()"
   ]
  },
  {
   "cell_type": "markdown",
   "metadata": {},
   "source": [
    "### Method 1 revised"
   ]
  },
  {
   "cell_type": "code",
   "execution_count": 25,
   "metadata": {},
   "outputs": [
    {
     "data": {
      "text/plain": [
       "<Figure size 600x400 with 0 Axes>"
      ]
     },
     "metadata": {},
     "output_type": "display_data"
    }
   ],
   "source": [
    "for epsilon in epsilons:\n",
    "    for i, fineness in enumerate(angle_sampling):\n",
    "        plt.plot(turn_sampling, DA_2[(epsilon, fineness)], c=color[i], label=fineness**3)\n",
    "\n",
    "    plt.plot(turn_sampling, DA_1[(epsilon, angle_sampling[-1])], c=\"black\", label=\"baseline ({})\".format(angle_sampling[-1]**3))\n",
    "\n",
    "    plt.xlabel(\"N turns\")\n",
    "    plt.ylabel(\"DA\")\n",
    "    plt.legend(fontsize=\"small\", title=\"N of samples\")\n",
    "\n",
    "    plt.title(\"4D integration (new method), Epsilon = {:.2f}\".format(epsilon))\n",
    "    plt.tight_layout()\n",
    "    plt.savefig(\"img/4D_integration_new_eps_{:.2f}.png\".format(epsilon), DPI=300)\n",
    "    plt.clf()"
   ]
  },
  {
   "cell_type": "code",
   "execution_count": null,
   "metadata": {},
   "outputs": [],
   "source": []
  }
 ],
 "metadata": {
  "kernelspec": {
   "display_name": "Python 3",
   "language": "python",
   "name": "python3"
  },
  "language_info": {
   "codemirror_mode": {
    "name": "ipython",
    "version": 3
   },
   "file_extension": ".py",
   "mimetype": "text/x-python",
   "name": "python",
   "nbconvert_exporter": "python",
   "pygments_lexer": "ipython3",
   "version": "3.7.6"
  }
 },
 "nbformat": 4,
 "nbformat_minor": 4
}
