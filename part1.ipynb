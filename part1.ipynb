{
 "cells": [
  {
   "cell_type": "markdown",
   "metadata": {},
   "source": [
    "# Computing Baseline and Standard Integral\n",
    "## Importing Libraries"
   ]
  },
  {
   "cell_type": "code",
   "execution_count": 1,
   "metadata": {},
   "outputs": [],
   "source": [
    "# Base libraries\n",
    "import math\n",
    "import numpy as np\n",
    "import scipy.integrate as integrate\n",
    "from tqdm import tqdm\n",
    "from scipy.special import erf\n",
    "import pickle\n",
    "import itertools\n",
    "\n",
    "from SALib.sample import saltelli\n",
    "from SALib.analyze import sobol\n",
    "\n",
    "# Personal libraries\n",
    "import henon_map as hm\n",
    "\n",
    "from parameters import *"
   ]
  },
  {
   "cell_type": "markdown",
   "metadata": {},
   "source": [
    "## Setup coordinates"
   ]
  },
  {
   "cell_type": "code",
   "execution_count": 2,
   "metadata": {},
   "outputs": [],
   "source": [
    "data_b = {}\n",
    "DA_b = {}\n",
    "error_b = {}\n",
    "\n",
    "alpha_preliminary_values = np.linspace(-1.0, 1.0, baseline_samples)\n",
    "alpha_values = np.arccos(alpha_preliminary_values) / 2\n",
    "theta1_values = np.linspace(0.0, np.pi * 2.0, baseline_samples, endpoint=False)\n",
    "theta2_values = np.linspace(0.0, np.pi * 2.0, baseline_samples, endpoint=False)\n",
    "\n",
    "d_preliminar_alpha = alpha_preliminary_values[1] - alpha_preliminary_values[0]\n",
    "d_theta1 = theta1_values[1] - theta1_values[0]\n",
    "d_theta2 = theta2_values[1] - theta2_values[0]\n",
    "\n",
    "alpha_mesh, theta1_mesh, theta2_mesh = np.meshgrid(alpha_values, theta1_values, theta2_values, indexing='ij')\n",
    "\n",
    "alpha_flat = alpha_mesh.flatten()\n",
    "theta1_flat = theta1_mesh.flatten()\n",
    "theta2_flat = theta2_mesh.flatten()"
   ]
  },
  {
   "cell_type": "markdown",
   "metadata": {},
   "source": [
    "## Baseline"
   ]
  },
  {
   "cell_type": "code",
   "execution_count": 3,
   "metadata": {},
   "outputs": [
    {
     "name": "stderr",
     "output_type": "stream",
     "text": [
      "Baseline: 100%|██████████| 1/1 [00:02<00:00,  2.72s/it]\n"
     ]
    }
   ],
   "source": [
    "for epsilon in tqdm(epsilons, desc=\"Baseline\"):\n",
    "    \n",
    "    # Data generation\n",
    "    henon_engine = hm.radial_scan.generate_instance(d_r, alpha_flat, theta1_flat, theta2_flat, epsilon, starting_position=starting_position)\n",
    "    radiuses = henon_engine.compute(turn_sampling)\n",
    "    radiuses = radiuses.reshape((baseline_samples, baseline_samples, baseline_samples, len(turn_sampling)))\n",
    "    data_b[epsilon] = radiuses"
   ]
  },
  {
   "cell_type": "code",
   "execution_count": 4,
   "metadata": {},
   "outputs": [],
   "source": [
    "for epsilon in epsilons:\n",
    "    \n",
    "    radiuses = data_b[epsilon]\n",
    "    # Computing DA\n",
    "    DA = []\n",
    "    error_list = []\n",
    "    mod_radiuses = radiuses.copy()\n",
    "    mod_radiuses = np.power(radiuses, 4)\n",
    "    \n",
    "    mod_radiuses1 = integrate.simps(mod_radiuses, x=theta1_values, axis=1)\n",
    "    error_radiuses1 = np.absolute(\n",
    "        (mod_radiuses1 - integrate.simps(mod_radiuses[:,::2,:], x=theta1_values[::2], axis=1)) / mod_radiuses1\n",
    "    )\n",
    "    error_radiuses1 = np.average(error_radiuses1, axis=1)\n",
    "        \n",
    "    mod_radiuses2 = integrate.simps(mod_radiuses1, x=theta2_values, axis=1)\n",
    "    error_radiuses2 = np.absolute(\n",
    "        (mod_radiuses2 - integrate.simps(mod_radiuses1[:,::2], x=theta2_values[::2], axis=1)) / mod_radiuses2\n",
    "    )\n",
    "    error_radiuses2 += error_radiuses1\n",
    "    error_radiuses2 = np.average(error_radiuses2, axis=0)\n",
    "        \n",
    "    mod_radiuses3 = integrate.simps(mod_radiuses2, x=alpha_preliminary_values, axis=0)\n",
    "    error_radiuses3 = np.absolute(\n",
    "        (mod_radiuses3 - integrate.simps(mod_radiuses2[::2], x=alpha_preliminary_values[::2], axis=0)) / mod_radiuses3\n",
    "    )\n",
    "    error_radiuses3 += error_radiuses2\n",
    "\n",
    "    error_raw = mod_radiuses3/ (2 * theta1_values[-1] * theta2_values[-1]) * error_radiuses3\n",
    "    error = 0.25 * np.power(mod_radiuses3 / (2 * theta1_values[-1] * theta2_values[-1]), -3/4) * error_raw\n",
    "\n",
    "    for i in range(len(turn_sampling)):\n",
    "        DA.append(\n",
    "            np.power(\n",
    "                mod_radiuses3[i] / (2 * theta1_values[-1] * theta2_values[-1]),\n",
    "                1/4\n",
    "            )\n",
    "        )\n",
    "        error_list.append(error[i])\n",
    "    DA_b[epsilon] = np.asarray(DA)\n",
    "    error_b[epsilon] = np.asarray(error_list)"
   ]
  },
  {
   "cell_type": "markdown",
   "metadata": {},
   "source": [
    "### Saving Data"
   ]
  },
  {
   "cell_type": "code",
   "execution_count": 5,
   "metadata": {},
   "outputs": [],
   "source": [
    "with open(savepath + \"data/raw_data_b.pkl\", 'wb') as f:\n",
    "    pickle.dump(data_b, f, protocol=4)\n",
    "    \n",
    "with open(savepath + \"data/DA_b.pkl\", 'wb') as f:\n",
    "    pickle.dump(DA_b, f, protocol=4)\n",
    "    \n",
    "with open(savepath + \"data/error_b.pkl\", 'wb') as f:\n",
    "    pickle.dump(error_b, f, protocol=4)"
   ]
  },
  {
   "cell_type": "markdown",
   "metadata": {},
   "source": [
    "## Monte Carlo Comparison"
   ]
  },
  {
   "cell_type": "code",
   "execution_count": 6,
   "metadata": {},
   "outputs": [],
   "source": [
    "DA_b_mc = {}\n",
    "error_b_mc = {}\n",
    "for epsilon in epsilons:\n",
    "    radiuses = data_b[epsilon].reshape(-1, data_b[epsilon].shape[-1])\n",
    "    \n",
    "    average = np.average(np.power(radiuses, 4), axis=0)\n",
    "    error = np.std(np.power(radiuses, 4), axis=0) / np.sqrt(radiuses.shape[0])\n",
    "    \n",
    "    DA_b_mc[epsilon] = np.power(average, 1/4)\n",
    "    error_b_mc[epsilon] = 0.25 * np.power(average, -3/4) * error"
   ]
  },
  {
   "cell_type": "markdown",
   "metadata": {},
   "source": [
    "### Saving Data"
   ]
  },
  {
   "cell_type": "code",
   "execution_count": 7,
   "metadata": {},
   "outputs": [],
   "source": [
    "with open(savepath + \"data/DA_b_mc.pkl\", 'wb') as f:\n",
    "    pickle.dump(DA_b_mc, f, protocol=4)\n",
    "    \n",
    "with open(savepath + \"data/error_b_mc.pkl\", 'wb') as f:\n",
    "    pickle.dump(error_b_mc, f, protocol=4)"
   ]
  },
  {
   "cell_type": "markdown",
   "metadata": {},
   "source": [
    "## Standard Integral"
   ]
  },
  {
   "cell_type": "code",
   "execution_count": 8,
   "metadata": {},
   "outputs": [
    {
     "name": "stderr",
     "output_type": "stream",
     "text": [
      "Standard Integral: 100%|██████████| 1/1 [00:00<00:00, 74.37it/s]\n"
     ]
    }
   ],
   "source": [
    "DA_1 = {}\n",
    "error_1 = {}\n",
    "for epsilon in tqdm(epsilons, desc=\"Standard Integral\"):\n",
    "    base_radiuses = data_b[epsilon]\n",
    "    \n",
    "    values = [2]\n",
    "    while True:\n",
    "        if (baseline_samples - 1) // values[-1] > 4:\n",
    "            values.append(values[-1] * 2)\n",
    "        else:\n",
    "            break\n",
    "    \n",
    "    for i in values:\n",
    "        radiuses = base_radiuses[::i, ::i, ::i]\n",
    "        DA = []\n",
    "        error_list = []\n",
    "        mod_radiuses = radiuses.copy()\n",
    "        mod_radiuses = np.power(radiuses, 4)\n",
    "        \n",
    "        mod_radiuses1 = integrate.simps(mod_radiuses, x=theta1_values[::i], axis=1)\n",
    "        error_radiuses1 = np.absolute(\n",
    "            (mod_radiuses1 - integrate.simps(mod_radiuses[:,::2,:], x=theta1_values[::i * 2], axis=1)) / mod_radiuses1\n",
    "        )\n",
    "        error_radiuses1 = np.average(error_radiuses1, axis=1)\n",
    "        \n",
    "        mod_radiuses2 = integrate.simps(mod_radiuses1, x=theta2_values[::i], axis=1)\n",
    "        error_radiuses2 = np.absolute(\n",
    "            (mod_radiuses2 - integrate.simps(mod_radiuses1[:,::2], x=theta2_values[::i * 2], axis=1)) / mod_radiuses2\n",
    "        )\n",
    "        error_radiuses2 += error_radiuses1\n",
    "        error_radiuses2 = np.average(error_radiuses2, axis=0)\n",
    "        \n",
    "        mod_radiuses3 = integrate.simps(mod_radiuses2, x=alpha_preliminary_values[::i], axis=0)\n",
    "        error_radiuses3 = np.absolute(\n",
    "            (mod_radiuses3 - integrate.simps(mod_radiuses2[::2], x=alpha_preliminary_values[::i * 2], axis=0)) / mod_radiuses3\n",
    "        )\n",
    "        error_radiuses3 += error_radiuses2\n",
    "        \n",
    "        error_raw = mod_radiuses3/ (2 * theta1_values[-1] * theta2_values[-1]) * error_radiuses3\n",
    "        error = 0.25 * np.power(mod_radiuses3 / (2 * theta1_values[-1] * theta2_values[-1]), -3/4) * error_raw\n",
    "\n",
    "        for j in range(len(turn_sampling)):\n",
    "            DA.append(\n",
    "                np.power(\n",
    "                    mod_radiuses3[j] / (2 * theta1_values[-1] * theta2_values[-1]),\n",
    "                    1/4\n",
    "                )\n",
    "            )\n",
    "            error_list.append(error[j])\n",
    "        DA_1[(epsilon, radiuses.shape[0]**3)] = np.asarray(DA)\n",
    "        error_1[(epsilon, radiuses.shape[0]**3)] = np.asarray(error_list)"
   ]
  },
  {
   "cell_type": "markdown",
   "metadata": {},
   "source": [
    "### Saving Data"
   ]
  },
  {
   "cell_type": "code",
   "execution_count": 9,
   "metadata": {},
   "outputs": [],
   "source": [
    "with open(savepath + \"data/DA_1.pkl\", 'wb') as f:\n",
    "    pickle.dump(DA_1, f, protocol=4)\n",
    "    \n",
    "with open(savepath + \"data/error_1.pkl\", 'wb') as f:\n",
    "    pickle.dump(error_1, f, protocol=4)"
   ]
  },
  {
   "cell_type": "code",
   "execution_count": null,
   "metadata": {},
   "outputs": [],
   "source": []
  }
 ],
 "metadata": {
  "kernelspec": {
   "display_name": "Python 3",
   "language": "python",
   "name": "python3"
  },
  "language_info": {
   "codemirror_mode": {
    "name": "ipython",
    "version": 3
   },
   "file_extension": ".py",
   "mimetype": "text/x-python",
   "name": "python",
   "nbconvert_exporter": "python",
   "pygments_lexer": "ipython3",
   "version": "3.8.1"
  }
 },
 "nbformat": 4,
 "nbformat_minor": 4
}
