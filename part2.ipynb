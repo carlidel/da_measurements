{
 "cells": [
  {
   "cell_type": "markdown",
   "metadata": {},
   "source": [
    "# Radial Average\n",
    "## Importing libraries"
   ]
  },
  {
   "cell_type": "code",
   "execution_count": 1,
   "metadata": {},
   "outputs": [],
   "source": [
    "# Base libraries\n",
    "import math\n",
    "import numpy as np\n",
    "import scipy.integrate as integrate\n",
    "from tqdm import tqdm\n",
    "from scipy.special import erf\n",
    "import pickle\n",
    "import itertools\n",
    "from SALib.sample import saltelli\n",
    "from SALib.analyze import sobol\n",
    "\n",
    "# Personal libraries\n",
    "import henon_map as hm\n",
    "\n",
    "from parameters import *"
   ]
  },
  {
   "cell_type": "markdown",
   "metadata": {},
   "source": [
    "## Computing"
   ]
  },
  {
   "cell_type": "code",
   "execution_count": 2,
   "metadata": {
    "scrolled": true
   },
   "outputs": [
    {
     "name": "stderr",
     "output_type": "stream",
     "text": [
      "Radial average:   0%|          | 0/1 [00:00<?, ?it/s]\n",
      "computing full track:   0%|          | 0/101 [00:00<?, ?it/s]\u001b[A"
     ]
    },
    {
     "name": "stdout",
     "output_type": "stream",
     "text": [
      "GPU\n",
      "CPU\n"
     ]
    },
    {
     "name": "stderr",
     "output_type": "stream",
     "text": [
      "/home/carlidel/Insync/carlo.montanari3@studio.unibo.it/OneDrive Biz/optimized_code/henon_map/henon_map/cpu_henon_core.py:153: RuntimeWarning: invalid value encountered in true_divide\n",
      "  matrices = np.nansum(matrices.reshape(\n",
      "\n",
      "computing full track:   1%|          | 1/101 [00:48<1:21:18, 48.78s/it]\u001b[A"
     ]
    },
    {
     "name": "stdout",
     "output_type": "stream",
     "text": [
      "GPU\n",
      "CPU\n"
     ]
    },
    {
     "name": "stderr",
     "output_type": "stream",
     "text": [
      "\n",
      "computing full track:   2%|▏         | 2/101 [01:33<1:18:19, 47.47s/it]\u001b[A"
     ]
    },
    {
     "name": "stdout",
     "output_type": "stream",
     "text": [
      "GPU\n",
      "CPU\n"
     ]
    },
    {
     "name": "stderr",
     "output_type": "stream",
     "text": [
      "\n",
      "computing full track:   3%|▎         | 3/101 [02:17<1:16:01, 46.54s/it]\u001b[A"
     ]
    },
    {
     "name": "stdout",
     "output_type": "stream",
     "text": [
      "GPU\n",
      "CPU\n"
     ]
    },
    {
     "name": "stderr",
     "output_type": "stream",
     "text": [
      "\n",
      "computing full track:   4%|▍         | 4/101 [03:01<1:13:49, 45.67s/it]\u001b[A"
     ]
    },
    {
     "name": "stdout",
     "output_type": "stream",
     "text": [
      "GPU\n",
      "CPU\n"
     ]
    },
    {
     "name": "stderr",
     "output_type": "stream",
     "text": [
      "\n",
      "computing full track:   5%|▍         | 5/101 [03:44<1:11:52, 44.92s/it]\u001b[A"
     ]
    },
    {
     "name": "stdout",
     "output_type": "stream",
     "text": [
      "GPU\n",
      "CPU\n"
     ]
    },
    {
     "name": "stderr",
     "output_type": "stream",
     "text": [
      "\n",
      "computing full track:   6%|▌         | 6/101 [04:27<1:10:11, 44.33s/it]\u001b[A"
     ]
    },
    {
     "name": "stdout",
     "output_type": "stream",
     "text": [
      "GPU\n",
      "CPU\n"
     ]
    },
    {
     "name": "stderr",
     "output_type": "stream",
     "text": [
      "\n",
      "computing full track:   7%|▋         | 7/101 [05:10<1:08:41, 43.85s/it]\u001b[A"
     ]
    },
    {
     "name": "stdout",
     "output_type": "stream",
     "text": [
      "GPU\n",
      "CPU\n"
     ]
    },
    {
     "name": "stderr",
     "output_type": "stream",
     "text": [
      "\n",
      "computing full track:   8%|▊         | 8/101 [05:52<1:07:11, 43.35s/it]\u001b[A"
     ]
    },
    {
     "name": "stdout",
     "output_type": "stream",
     "text": [
      "GPU\n",
      "CPU\n"
     ]
    },
    {
     "name": "stderr",
     "output_type": "stream",
     "text": [
      "\n",
      "computing full track:   9%|▉         | 9/101 [06:33<1:05:42, 42.85s/it]\u001b[A"
     ]
    },
    {
     "name": "stdout",
     "output_type": "stream",
     "text": [
      "GPU\n",
      "CPU\n"
     ]
    },
    {
     "name": "stderr",
     "output_type": "stream",
     "text": [
      "\n",
      "computing full track:  10%|▉         | 10/101 [07:15<1:04:16, 42.38s/it]\u001b[A"
     ]
    },
    {
     "name": "stdout",
     "output_type": "stream",
     "text": [
      "GPU\n",
      "CPU\n"
     ]
    },
    {
     "name": "stderr",
     "output_type": "stream",
     "text": [
      "\n",
      "computing full track:  11%|█         | 11/101 [07:56<1:02:55, 41.95s/it]\u001b[A"
     ]
    },
    {
     "name": "stdout",
     "output_type": "stream",
     "text": [
      "GPU\n",
      "CPU\n"
     ]
    },
    {
     "name": "stderr",
     "output_type": "stream",
     "text": [
      "\n",
      "computing full track:  12%|█▏        | 12/101 [08:36<1:01:34, 41.51s/it]\u001b[A"
     ]
    },
    {
     "name": "stdout",
     "output_type": "stream",
     "text": [
      "GPU\n",
      "CPU\n"
     ]
    },
    {
     "name": "stderr",
     "output_type": "stream",
     "text": [
      "\n",
      "computing full track:  13%|█▎        | 13/101 [09:16<1:00:13, 41.07s/it]\u001b[A"
     ]
    },
    {
     "name": "stdout",
     "output_type": "stream",
     "text": [
      "GPU\n",
      "CPU\n"
     ]
    },
    {
     "name": "stderr",
     "output_type": "stream",
     "text": [
      "\n",
      "computing full track:  14%|█▍        | 14/101 [09:56<58:57, 40.66s/it]  \u001b[A"
     ]
    },
    {
     "name": "stdout",
     "output_type": "stream",
     "text": [
      "GPU\n",
      "CPU\n"
     ]
    },
    {
     "name": "stderr",
     "output_type": "stream",
     "text": [
      "\n",
      "computing full track:  15%|█▍        | 15/101 [10:35<57:41, 40.25s/it]\u001b[A"
     ]
    },
    {
     "name": "stdout",
     "output_type": "stream",
     "text": [
      "GPU\n",
      "CPU\n"
     ]
    },
    {
     "name": "stderr",
     "output_type": "stream",
     "text": [
      "\n",
      "computing full track:  16%|█▌        | 16/101 [11:14<56:30, 39.88s/it]\u001b[A"
     ]
    },
    {
     "name": "stdout",
     "output_type": "stream",
     "text": [
      "GPU\n",
      "CPU\n"
     ]
    },
    {
     "name": "stderr",
     "output_type": "stream",
     "text": [
      "\n",
      "computing full track:  17%|█▋        | 17/101 [11:53<55:15, 39.47s/it]\u001b[A"
     ]
    },
    {
     "name": "stdout",
     "output_type": "stream",
     "text": [
      "GPU\n",
      "CPU\n"
     ]
    },
    {
     "name": "stderr",
     "output_type": "stream",
     "text": [
      "\n",
      "computing full track:  18%|█▊        | 18/101 [12:31<54:02, 39.07s/it]\u001b[A"
     ]
    },
    {
     "name": "stdout",
     "output_type": "stream",
     "text": [
      "GPU\n",
      "CPU\n"
     ]
    },
    {
     "name": "stderr",
     "output_type": "stream",
     "text": [
      "\n",
      "computing full track:  19%|█▉        | 19/101 [13:09<52:52, 38.68s/it]\u001b[A"
     ]
    },
    {
     "name": "stdout",
     "output_type": "stream",
     "text": [
      "GPU\n",
      "CPU\n"
     ]
    },
    {
     "name": "stderr",
     "output_type": "stream",
     "text": [
      "\n",
      "computing full track:  20%|█▉        | 20/101 [13:46<51:43, 38.32s/it]\u001b[A"
     ]
    },
    {
     "name": "stdout",
     "output_type": "stream",
     "text": [
      "GPU\n",
      "CPU\n"
     ]
    },
    {
     "name": "stderr",
     "output_type": "stream",
     "text": [
      "\n",
      "computing full track:  21%|██        | 21/101 [14:23<50:38, 37.98s/it]\u001b[A"
     ]
    },
    {
     "name": "stdout",
     "output_type": "stream",
     "text": [
      "GPU\n",
      "CPU\n"
     ]
    },
    {
     "name": "stderr",
     "output_type": "stream",
     "text": [
      "\n",
      "computing full track:  22%|██▏       | 22/101 [15:00<49:26, 37.55s/it]\u001b[A"
     ]
    },
    {
     "name": "stdout",
     "output_type": "stream",
     "text": [
      "GPU\n",
      "CPU\n"
     ]
    },
    {
     "name": "stderr",
     "output_type": "stream",
     "text": [
      "\n",
      "computing full track:  23%|██▎       | 23/101 [15:36<48:17, 37.15s/it]\u001b[A"
     ]
    },
    {
     "name": "stdout",
     "output_type": "stream",
     "text": [
      "GPU\n",
      "CPU\n"
     ]
    },
    {
     "name": "stderr",
     "output_type": "stream",
     "text": [
      "\n",
      "computing full track:  24%|██▍       | 24/101 [16:12<47:13, 36.79s/it]\u001b[A"
     ]
    },
    {
     "name": "stdout",
     "output_type": "stream",
     "text": [
      "GPU\n",
      "CPU\n"
     ]
    },
    {
     "name": "stderr",
     "output_type": "stream",
     "text": [
      "\n",
      "computing full track:  25%|██▍       | 25/101 [16:48<46:08, 36.43s/it]\u001b[A"
     ]
    },
    {
     "name": "stdout",
     "output_type": "stream",
     "text": [
      "GPU\n",
      "CPU\n"
     ]
    },
    {
     "name": "stderr",
     "output_type": "stream",
     "text": [
      "\n",
      "computing full track:  26%|██▌       | 26/101 [17:23<45:04, 36.06s/it]\u001b[A"
     ]
    },
    {
     "name": "stdout",
     "output_type": "stream",
     "text": [
      "GPU\n",
      "CPU\n"
     ]
    },
    {
     "name": "stderr",
     "output_type": "stream",
     "text": [
      "\n",
      "computing full track:  27%|██▋       | 27/101 [17:57<43:56, 35.63s/it]\u001b[A"
     ]
    },
    {
     "name": "stdout",
     "output_type": "stream",
     "text": [
      "GPU\n",
      "CPU\n"
     ]
    },
    {
     "name": "stderr",
     "output_type": "stream",
     "text": [
      "\n",
      "computing full track:  28%|██▊       | 28/101 [18:32<42:52, 35.24s/it]\u001b[A"
     ]
    },
    {
     "name": "stdout",
     "output_type": "stream",
     "text": [
      "GPU\n",
      "CPU\n"
     ]
    },
    {
     "name": "stderr",
     "output_type": "stream",
     "text": [
      "\n",
      "computing full track:  29%|██▊       | 29/101 [19:06<41:46, 34.81s/it]\u001b[A"
     ]
    },
    {
     "name": "stdout",
     "output_type": "stream",
     "text": [
      "GPU\n",
      "CPU\n"
     ]
    },
    {
     "name": "stderr",
     "output_type": "stream",
     "text": [
      "\n",
      "computing full track:  30%|██▉       | 30/101 [19:39<40:42, 34.40s/it]\u001b[A"
     ]
    },
    {
     "name": "stdout",
     "output_type": "stream",
     "text": [
      "GPU\n",
      "CPU\n"
     ]
    },
    {
     "name": "stderr",
     "output_type": "stream",
     "text": [
      "\n",
      "computing full track:  31%|███       | 31/101 [20:12<39:41, 34.01s/it]\u001b[A"
     ]
    },
    {
     "name": "stdout",
     "output_type": "stream",
     "text": [
      "GPU\n",
      "CPU\n"
     ]
    },
    {
     "name": "stderr",
     "output_type": "stream",
     "text": [
      "\n",
      "computing full track:  32%|███▏      | 32/101 [20:45<38:37, 33.59s/it]\u001b[A"
     ]
    },
    {
     "name": "stdout",
     "output_type": "stream",
     "text": [
      "GPU\n",
      "CPU\n"
     ]
    },
    {
     "name": "stderr",
     "output_type": "stream",
     "text": [
      "\n",
      "computing full track:  33%|███▎      | 33/101 [21:17<37:40, 33.25s/it]\u001b[A"
     ]
    },
    {
     "name": "stdout",
     "output_type": "stream",
     "text": [
      "GPU\n",
      "CPU\n"
     ]
    },
    {
     "name": "stderr",
     "output_type": "stream",
     "text": [
      "\n",
      "computing full track:  34%|███▎      | 34/101 [21:49<36:38, 32.81s/it]\u001b[A"
     ]
    },
    {
     "name": "stdout",
     "output_type": "stream",
     "text": [
      "GPU\n",
      "CPU\n"
     ]
    },
    {
     "name": "stderr",
     "output_type": "stream",
     "text": [
      "\n",
      "computing full track:  35%|███▍      | 35/101 [22:21<35:42, 32.46s/it]\u001b[A"
     ]
    },
    {
     "name": "stdout",
     "output_type": "stream",
     "text": [
      "GPU\n",
      "CPU\n"
     ]
    },
    {
     "name": "stderr",
     "output_type": "stream",
     "text": [
      "\n",
      "computing full track:  36%|███▌      | 36/101 [22:52<34:45, 32.09s/it]\u001b[A"
     ]
    },
    {
     "name": "stdout",
     "output_type": "stream",
     "text": [
      "GPU\n",
      "CPU\n"
     ]
    },
    {
     "name": "stderr",
     "output_type": "stream",
     "text": [
      "\n",
      "computing full track:  37%|███▋      | 37/101 [23:22<33:45, 31.65s/it]\u001b[A"
     ]
    },
    {
     "name": "stdout",
     "output_type": "stream",
     "text": [
      "GPU\n",
      "CPU\n"
     ]
    },
    {
     "name": "stderr",
     "output_type": "stream",
     "text": [
      "\n",
      "computing full track:  38%|███▊      | 38/101 [23:53<32:49, 31.26s/it]\u001b[A"
     ]
    },
    {
     "name": "stdout",
     "output_type": "stream",
     "text": [
      "GPU\n",
      "CPU\n"
     ]
    },
    {
     "name": "stderr",
     "output_type": "stream",
     "text": [
      "\n",
      "computing full track:  39%|███▊      | 39/101 [24:23<31:54, 30.88s/it]\u001b[A"
     ]
    },
    {
     "name": "stdout",
     "output_type": "stream",
     "text": [
      "GPU\n",
      "CPU\n"
     ]
    },
    {
     "name": "stderr",
     "output_type": "stream",
     "text": [
      "\n",
      "computing full track:  40%|███▉      | 40/101 [24:52<31:01, 30.51s/it]\u001b[A"
     ]
    },
    {
     "name": "stdout",
     "output_type": "stream",
     "text": [
      "GPU\n",
      "CPU\n"
     ]
    },
    {
     "name": "stderr",
     "output_type": "stream",
     "text": [
      "\n",
      "computing full track:  41%|████      | 41/101 [25:21<30:04, 30.08s/it]\u001b[A"
     ]
    },
    {
     "name": "stdout",
     "output_type": "stream",
     "text": [
      "GPU\n",
      "CPU\n"
     ]
    },
    {
     "name": "stderr",
     "output_type": "stream",
     "text": [
      "\n",
      "computing full track:  42%|████▏     | 42/101 [25:50<29:15, 29.75s/it]\u001b[A"
     ]
    },
    {
     "name": "stdout",
     "output_type": "stream",
     "text": [
      "GPU\n",
      "CPU\n"
     ]
    },
    {
     "name": "stderr",
     "output_type": "stream",
     "text": [
      "\n",
      "computing full track:  43%|████▎     | 43/101 [26:19<28:19, 29.31s/it]\u001b[A"
     ]
    },
    {
     "name": "stdout",
     "output_type": "stream",
     "text": [
      "GPU\n",
      "CPU\n"
     ]
    },
    {
     "name": "stderr",
     "output_type": "stream",
     "text": [
      "\n",
      "computing full track:  44%|████▎     | 44/101 [26:47<27:29, 28.93s/it]\u001b[A"
     ]
    },
    {
     "name": "stdout",
     "output_type": "stream",
     "text": [
      "GPU\n",
      "CPU\n"
     ]
    },
    {
     "name": "stderr",
     "output_type": "stream",
     "text": [
      "\n",
      "computing full track:  45%|████▍     | 45/101 [27:14<26:39, 28.56s/it]\u001b[A"
     ]
    },
    {
     "name": "stdout",
     "output_type": "stream",
     "text": [
      "GPU\n",
      "CPU\n"
     ]
    },
    {
     "name": "stderr",
     "output_type": "stream",
     "text": [
      "\n",
      "computing full track:  46%|████▌     | 46/101 [27:42<25:48, 28.16s/it]\u001b[A"
     ]
    },
    {
     "name": "stdout",
     "output_type": "stream",
     "text": [
      "GPU\n",
      "CPU\n"
     ]
    },
    {
     "name": "stderr",
     "output_type": "stream",
     "text": [
      "\n",
      "computing full track:  47%|████▋     | 47/101 [28:09<24:58, 27.75s/it]\u001b[A"
     ]
    },
    {
     "name": "stdout",
     "output_type": "stream",
     "text": [
      "GPU\n",
      "CPU\n"
     ]
    },
    {
     "name": "stderr",
     "output_type": "stream",
     "text": [
      "\n",
      "computing full track:  48%|████▊     | 48/101 [28:35<24:10, 27.38s/it]\u001b[A"
     ]
    },
    {
     "name": "stdout",
     "output_type": "stream",
     "text": [
      "GPU\n",
      "CPU\n"
     ]
    },
    {
     "name": "stderr",
     "output_type": "stream",
     "text": [
      "\n",
      "computing full track:  49%|████▊     | 49/101 [29:01<23:22, 26.98s/it]\u001b[A"
     ]
    },
    {
     "name": "stdout",
     "output_type": "stream",
     "text": [
      "GPU\n",
      "CPU\n"
     ]
    },
    {
     "name": "stderr",
     "output_type": "stream",
     "text": [
      "\n",
      "computing full track:  50%|████▉     | 50/101 [29:27<22:36, 26.59s/it]\u001b[A"
     ]
    },
    {
     "name": "stdout",
     "output_type": "stream",
     "text": [
      "GPU\n",
      "CPU\n"
     ]
    },
    {
     "name": "stderr",
     "output_type": "stream",
     "text": [
      "\n",
      "computing full track:  50%|█████     | 51/101 [29:52<21:47, 26.15s/it]\u001b[A"
     ]
    },
    {
     "name": "stdout",
     "output_type": "stream",
     "text": [
      "GPU\n",
      "CPU\n"
     ]
    },
    {
     "name": "stderr",
     "output_type": "stream",
     "text": [
      "\n",
      "computing full track:  51%|█████▏    | 52/101 [30:17<21:04, 25.81s/it]\u001b[A"
     ]
    },
    {
     "name": "stdout",
     "output_type": "stream",
     "text": [
      "GPU\n",
      "CPU\n"
     ]
    },
    {
     "name": "stderr",
     "output_type": "stream",
     "text": [
      "\n",
      "computing full track:  52%|█████▏    | 53/101 [30:41<20:18, 25.40s/it]\u001b[A"
     ]
    },
    {
     "name": "stdout",
     "output_type": "stream",
     "text": [
      "GPU\n",
      "CPU\n"
     ]
    },
    {
     "name": "stderr",
     "output_type": "stream",
     "text": [
      "\n",
      "computing full track:  53%|█████▎    | 54/101 [31:05<19:33, 24.97s/it]\u001b[A"
     ]
    },
    {
     "name": "stdout",
     "output_type": "stream",
     "text": [
      "GPU\n",
      "CPU\n"
     ]
    },
    {
     "name": "stderr",
     "output_type": "stream",
     "text": [
      "\n",
      "computing full track:  54%|█████▍    | 55/101 [31:29<18:49, 24.55s/it]\u001b[A"
     ]
    },
    {
     "name": "stdout",
     "output_type": "stream",
     "text": [
      "GPU\n",
      "CPU\n"
     ]
    },
    {
     "name": "stderr",
     "output_type": "stream",
     "text": [
      "\n",
      "computing full track:  55%|█████▌    | 56/101 [31:52<18:06, 24.14s/it]\u001b[A"
     ]
    },
    {
     "name": "stdout",
     "output_type": "stream",
     "text": [
      "GPU\n",
      "CPU\n"
     ]
    },
    {
     "name": "stderr",
     "output_type": "stream",
     "text": [
      "\n",
      "computing full track:  56%|█████▋    | 57/101 [32:15<17:26, 23.79s/it]\u001b[A"
     ]
    },
    {
     "name": "stdout",
     "output_type": "stream",
     "text": [
      "GPU\n",
      "CPU\n"
     ]
    },
    {
     "name": "stderr",
     "output_type": "stream",
     "text": [
      "\n",
      "computing full track:  57%|█████▋    | 58/101 [32:37<16:45, 23.39s/it]\u001b[A"
     ]
    },
    {
     "name": "stdout",
     "output_type": "stream",
     "text": [
      "GPU\n",
      "CPU\n"
     ]
    },
    {
     "name": "stderr",
     "output_type": "stream",
     "text": [
      "\n",
      "computing full track:  58%|█████▊    | 59/101 [32:59<16:04, 22.97s/it]\u001b[A"
     ]
    },
    {
     "name": "stdout",
     "output_type": "stream",
     "text": [
      "GPU\n",
      "CPU\n"
     ]
    },
    {
     "name": "stderr",
     "output_type": "stream",
     "text": [
      "\n",
      "computing full track:  59%|█████▉    | 60/101 [33:21<15:26, 22.60s/it]\u001b[A"
     ]
    },
    {
     "name": "stdout",
     "output_type": "stream",
     "text": [
      "GPU\n",
      "CPU\n"
     ]
    },
    {
     "name": "stderr",
     "output_type": "stream",
     "text": [
      "\n",
      "computing full track:  60%|██████    | 61/101 [33:42<14:47, 22.19s/it]\u001b[A"
     ]
    },
    {
     "name": "stdout",
     "output_type": "stream",
     "text": [
      "GPU\n",
      "CPU\n"
     ]
    },
    {
     "name": "stderr",
     "output_type": "stream",
     "text": [
      "\n",
      "computing full track:  61%|██████▏   | 62/101 [34:03<14:07, 21.73s/it]\u001b[A"
     ]
    },
    {
     "name": "stdout",
     "output_type": "stream",
     "text": [
      "GPU\n",
      "CPU\n"
     ]
    },
    {
     "name": "stderr",
     "output_type": "stream",
     "text": [
      "\n",
      "computing full track:  62%|██████▏   | 63/101 [34:23<13:30, 21.32s/it]\u001b[A"
     ]
    },
    {
     "name": "stdout",
     "output_type": "stream",
     "text": [
      "GPU\n",
      "CPU\n"
     ]
    },
    {
     "name": "stderr",
     "output_type": "stream",
     "text": [
      "\n",
      "computing full track:  63%|██████▎   | 64/101 [34:43<12:52, 20.87s/it]\u001b[A"
     ]
    },
    {
     "name": "stdout",
     "output_type": "stream",
     "text": [
      "GPU\n",
      "CPU\n"
     ]
    },
    {
     "name": "stderr",
     "output_type": "stream",
     "text": [
      "\n",
      "computing full track:  64%|██████▍   | 65/101 [35:03<12:16, 20.46s/it]\u001b[A"
     ]
    },
    {
     "name": "stdout",
     "output_type": "stream",
     "text": [
      "GPU\n",
      "CPU\n"
     ]
    },
    {
     "name": "stderr",
     "output_type": "stream",
     "text": [
      "\n",
      "computing full track:  65%|██████▌   | 66/101 [35:22<11:43, 20.09s/it]\u001b[A"
     ]
    },
    {
     "name": "stdout",
     "output_type": "stream",
     "text": [
      "GPU\n",
      "CPU\n"
     ]
    },
    {
     "name": "stderr",
     "output_type": "stream",
     "text": [
      "\n",
      "computing full track:  66%|██████▋   | 67/101 [35:41<11:09, 19.69s/it]\u001b[A"
     ]
    },
    {
     "name": "stdout",
     "output_type": "stream",
     "text": [
      "GPU\n",
      "CPU\n"
     ]
    },
    {
     "name": "stderr",
     "output_type": "stream",
     "text": [
      "\n",
      "computing full track:  67%|██████▋   | 68/101 [35:59<10:36, 19.30s/it]\u001b[A"
     ]
    },
    {
     "name": "stdout",
     "output_type": "stream",
     "text": [
      "GPU\n",
      "CPU\n"
     ]
    },
    {
     "name": "stderr",
     "output_type": "stream",
     "text": [
      "\n",
      "computing full track:  68%|██████▊   | 69/101 [36:17<10:05, 18.92s/it]\u001b[A"
     ]
    },
    {
     "name": "stdout",
     "output_type": "stream",
     "text": [
      "GPU\n",
      "CPU\n"
     ]
    },
    {
     "name": "stderr",
     "output_type": "stream",
     "text": [
      "\n",
      "computing full track:  69%|██████▉   | 70/101 [36:35<09:33, 18.51s/it]\u001b[A"
     ]
    },
    {
     "name": "stdout",
     "output_type": "stream",
     "text": [
      "GPU\n",
      "CPU\n"
     ]
    },
    {
     "name": "stderr",
     "output_type": "stream",
     "text": [
      "\n",
      "computing full track:  70%|███████   | 71/101 [36:52<09:01, 18.07s/it]\u001b[A"
     ]
    },
    {
     "name": "stdout",
     "output_type": "stream",
     "text": [
      "GPU\n",
      "CPU\n"
     ]
    },
    {
     "name": "stderr",
     "output_type": "stream",
     "text": [
      "\n",
      "computing full track:  71%|███████▏  | 72/101 [37:08<08:32, 17.66s/it]\u001b[A"
     ]
    },
    {
     "name": "stdout",
     "output_type": "stream",
     "text": [
      "GPU\n",
      "CPU\n"
     ]
    },
    {
     "name": "stderr",
     "output_type": "stream",
     "text": [
      "\n",
      "computing full track:  72%|███████▏  | 73/101 [37:25<08:02, 17.23s/it]\u001b[A"
     ]
    },
    {
     "name": "stdout",
     "output_type": "stream",
     "text": [
      "GPU\n",
      "CPU\n"
     ]
    },
    {
     "name": "stderr",
     "output_type": "stream",
     "text": [
      "\n",
      "computing full track:  73%|███████▎  | 74/101 [37:41<07:35, 16.88s/it]\u001b[A"
     ]
    },
    {
     "name": "stdout",
     "output_type": "stream",
     "text": [
      "GPU\n",
      "CPU\n"
     ]
    },
    {
     "name": "stderr",
     "output_type": "stream",
     "text": [
      "\n",
      "computing full track:  74%|███████▍  | 75/101 [37:56<07:06, 16.41s/it]\u001b[A"
     ]
    },
    {
     "name": "stdout",
     "output_type": "stream",
     "text": [
      "GPU\n",
      "CPU\n"
     ]
    },
    {
     "name": "stderr",
     "output_type": "stream",
     "text": [
      "\n",
      "computing full track:  75%|███████▌  | 76/101 [38:11<06:39, 16.00s/it]\u001b[A"
     ]
    },
    {
     "name": "stdout",
     "output_type": "stream",
     "text": [
      "GPU\n",
      "CPU\n"
     ]
    },
    {
     "name": "stderr",
     "output_type": "stream",
     "text": [
      "\n",
      "computing full track:  76%|███████▌  | 77/101 [38:26<06:14, 15.59s/it]\u001b[A"
     ]
    },
    {
     "name": "stdout",
     "output_type": "stream",
     "text": [
      "GPU\n",
      "CPU\n"
     ]
    },
    {
     "name": "stderr",
     "output_type": "stream",
     "text": [
      "\n",
      "computing full track:  77%|███████▋  | 78/101 [38:40<05:47, 15.13s/it]\u001b[A"
     ]
    },
    {
     "name": "stdout",
     "output_type": "stream",
     "text": [
      "GPU\n",
      "CPU\n"
     ]
    },
    {
     "name": "stderr",
     "output_type": "stream",
     "text": [
      "\n",
      "computing full track:  78%|███████▊  | 79/101 [38:54<05:24, 14.73s/it]\u001b[A"
     ]
    },
    {
     "name": "stdout",
     "output_type": "stream",
     "text": [
      "GPU\n",
      "CPU\n"
     ]
    },
    {
     "name": "stderr",
     "output_type": "stream",
     "text": [
      "\n",
      "computing full track:  79%|███████▉  | 80/101 [39:07<04:59, 14.26s/it]\u001b[A"
     ]
    },
    {
     "name": "stdout",
     "output_type": "stream",
     "text": [
      "GPU\n",
      "CPU\n"
     ]
    },
    {
     "name": "stderr",
     "output_type": "stream",
     "text": [
      "\n",
      "computing full track:  80%|████████  | 81/101 [39:20<04:36, 13.81s/it]\u001b[A"
     ]
    },
    {
     "name": "stdout",
     "output_type": "stream",
     "text": [
      "GPU\n",
      "CPU\n"
     ]
    },
    {
     "name": "stderr",
     "output_type": "stream",
     "text": [
      "\n",
      "computing full track:  81%|████████  | 82/101 [39:32<04:13, 13.34s/it]\u001b[A"
     ]
    },
    {
     "name": "stdout",
     "output_type": "stream",
     "text": [
      "GPU\n",
      "CPU\n"
     ]
    },
    {
     "name": "stderr",
     "output_type": "stream",
     "text": [
      "\n",
      "computing full track:  82%|████████▏ | 83/101 [39:44<03:52, 12.93s/it]\u001b[A"
     ]
    },
    {
     "name": "stdout",
     "output_type": "stream",
     "text": [
      "GPU\n",
      "CPU\n"
     ]
    },
    {
     "name": "stderr",
     "output_type": "stream",
     "text": [
      "\n",
      "computing full track:  83%|████████▎ | 84/101 [39:55<03:32, 12.49s/it]\u001b[A"
     ]
    },
    {
     "name": "stdout",
     "output_type": "stream",
     "text": [
      "GPU\n",
      "CPU\n"
     ]
    },
    {
     "name": "stderr",
     "output_type": "stream",
     "text": [
      "\n",
      "computing full track:  84%|████████▍ | 85/101 [40:06<03:12, 12.06s/it]\u001b[A"
     ]
    },
    {
     "name": "stdout",
     "output_type": "stream",
     "text": [
      "GPU\n",
      "CPU\n"
     ]
    },
    {
     "name": "stderr",
     "output_type": "stream",
     "text": [
      "\n",
      "computing full track:  85%|████████▌ | 86/101 [40:17<02:54, 11.60s/it]\u001b[A"
     ]
    },
    {
     "name": "stdout",
     "output_type": "stream",
     "text": [
      "GPU\n",
      "CPU\n"
     ]
    },
    {
     "name": "stderr",
     "output_type": "stream",
     "text": [
      "\n",
      "computing full track:  86%|████████▌ | 87/101 [40:27<02:36, 11.19s/it]\u001b[A"
     ]
    },
    {
     "name": "stdout",
     "output_type": "stream",
     "text": [
      "GPU\n",
      "CPU\n"
     ]
    },
    {
     "name": "stderr",
     "output_type": "stream",
     "text": [
      "\n",
      "computing full track:  87%|████████▋ | 88/101 [40:37<02:19, 10.75s/it]\u001b[A"
     ]
    },
    {
     "name": "stdout",
     "output_type": "stream",
     "text": [
      "GPU\n",
      "CPU\n"
     ]
    },
    {
     "name": "stderr",
     "output_type": "stream",
     "text": [
      "\n",
      "computing full track:  88%|████████▊ | 89/101 [40:46<02:03, 10.29s/it]\u001b[A"
     ]
    },
    {
     "name": "stdout",
     "output_type": "stream",
     "text": [
      "GPU\n",
      "CPU\n"
     ]
    },
    {
     "name": "stderr",
     "output_type": "stream",
     "text": [
      "\n",
      "computing full track:  89%|████████▉ | 90/101 [40:55<01:47,  9.81s/it]\u001b[A"
     ]
    },
    {
     "name": "stdout",
     "output_type": "stream",
     "text": [
      "GPU\n",
      "CPU\n"
     ]
    },
    {
     "name": "stderr",
     "output_type": "stream",
     "text": [
      "\n",
      "computing full track:  90%|█████████ | 91/101 [41:03<01:33,  9.38s/it]\u001b[A"
     ]
    },
    {
     "name": "stdout",
     "output_type": "stream",
     "text": [
      "GPU\n",
      "CPU\n"
     ]
    },
    {
     "name": "stderr",
     "output_type": "stream",
     "text": [
      "\n",
      "computing full track:  91%|█████████ | 92/101 [41:11<01:20,  8.97s/it]\u001b[A"
     ]
    },
    {
     "name": "stdout",
     "output_type": "stream",
     "text": [
      "GPU\n",
      "CPU\n"
     ]
    },
    {
     "name": "stderr",
     "output_type": "stream",
     "text": [
      "\n",
      "computing full track:  92%|█████████▏| 93/101 [41:18<01:07,  8.46s/it]\u001b[A"
     ]
    },
    {
     "name": "stdout",
     "output_type": "stream",
     "text": [
      "GPU\n",
      "CPU\n"
     ]
    },
    {
     "name": "stderr",
     "output_type": "stream",
     "text": [
      "\n",
      "computing full track:  93%|█████████▎| 94/101 [41:25<00:56,  8.01s/it]\u001b[A"
     ]
    },
    {
     "name": "stdout",
     "output_type": "stream",
     "text": [
      "GPU\n",
      "CPU\n"
     ]
    },
    {
     "name": "stderr",
     "output_type": "stream",
     "text": [
      "\n",
      "computing full track:  94%|█████████▍| 95/101 [41:32<00:45,  7.55s/it]\u001b[A"
     ]
    },
    {
     "name": "stdout",
     "output_type": "stream",
     "text": [
      "GPU\n",
      "CPU\n"
     ]
    },
    {
     "name": "stderr",
     "output_type": "stream",
     "text": [
      "\n",
      "computing full track:  95%|█████████▌| 96/101 [41:38<00:35,  7.07s/it]\u001b[A"
     ]
    },
    {
     "name": "stdout",
     "output_type": "stream",
     "text": [
      "GPU\n",
      "CPU\n"
     ]
    },
    {
     "name": "stderr",
     "output_type": "stream",
     "text": [
      "\n",
      "computing full track:  96%|█████████▌| 97/101 [41:43<00:26,  6.59s/it]\u001b[A"
     ]
    },
    {
     "name": "stdout",
     "output_type": "stream",
     "text": [
      "GPU\n",
      "CPU\n"
     ]
    },
    {
     "name": "stderr",
     "output_type": "stream",
     "text": [
      "\n",
      "computing full track:  97%|█████████▋| 98/101 [41:48<00:18,  6.10s/it]\u001b[A"
     ]
    },
    {
     "name": "stdout",
     "output_type": "stream",
     "text": [
      "GPU\n",
      "CPU\n"
     ]
    },
    {
     "name": "stderr",
     "output_type": "stream",
     "text": [
      "\n",
      "computing full track:  98%|█████████▊| 99/101 [41:53<00:11,  5.63s/it]\u001b[A"
     ]
    },
    {
     "name": "stdout",
     "output_type": "stream",
     "text": [
      "GPU\n",
      "CPU\n"
     ]
    },
    {
     "name": "stderr",
     "output_type": "stream",
     "text": [
      "\n",
      "computing full track:  99%|█████████▉| 100/101 [41:57<00:05,  5.17s/it]\u001b[A"
     ]
    },
    {
     "name": "stdout",
     "output_type": "stream",
     "text": [
      "GPU\n",
      "CPU\n"
     ]
    },
    {
     "name": "stderr",
     "output_type": "stream",
     "text": [
      "\n",
      "computing full track: 100%|██████████| 101/101 [42:00<00:00, 24.96s/it]\u001b[A\n",
      "Radial average: 100%|██████████| 1/1 [42:57<00:00, 2577.29s/it]\n"
     ]
    }
   ],
   "source": [
    "error_2 = {}\n",
    "DA_2 = {}\n",
    "error_5 = {}\n",
    "DA_5 = {}\n",
    "raw_error_2 = {}\n",
    "\n",
    "alpha_preliminary_values = np.linspace(-1.0, 1.0, samples)\n",
    "alpha_values = np.arccos(alpha_preliminary_values) / 2\n",
    "d_preliminar_alpha = alpha_preliminary_values[1] - alpha_preliminary_values[0]\n",
    "\n",
    "for epsilon in tqdm(epsilons, desc=\"Radial average\"):\n",
    "    # Extracting the radiuses with theta1 = theta2 = 0.0\n",
    "    \n",
    "    engine = hm.radial_scan.generate_instance(\n",
    "        d_r, \n",
    "        alpha_values, \n",
    "        np.zeros(alpha_values.shape),\n",
    "        np.zeros(alpha_values.shape),\n",
    "        epsilon,\n",
    "        starting_position=starting_position\n",
    "    )\n",
    "    all_radiuses = engine.compute(turn_sampling)\n",
    "    \n",
    "    # Computing of the 2D values\n",
    "    \n",
    "    skips = [1]\n",
    "    while True:\n",
    "        if (samples - 1) // skips[-1] > 4:\n",
    "            skips.append(skips[-1] * 2)\n",
    "        else:\n",
    "            break\n",
    "    \n",
    "    for i in skips:\n",
    "        alpha_prelim = alpha_preliminary_values[::i]\n",
    "        cutted_radiuses = all_radiuses[::i]\n",
    "        value = integrate.simps(cutted_radiuses ** 2, alpha_prelim, axis=0)\n",
    "        less_value = integrate.simps(cutted_radiuses[::2] ** 2, alpha_prelim[::2], axis=0)\n",
    "        uncertainty = np.abs((value - less_value))\n",
    "        \n",
    "        DA = np.sqrt(value / 2)\n",
    "        uncertainty = 0.5 * np.power(value / 2, -0.5) * uncertainty\n",
    "        DA_5[(epsilon, cutted_radiuses.shape)] = np.asarray(DA)\n",
    "        error_5[(epsilon, cutted_radiuses.shape)] = uncertainty \n",
    "    \n",
    "    # Rest of the Angular Averaging process\n",
    "    \n",
    "    values = []\n",
    "    indexes = []\n",
    "    raw_values = []\n",
    "    refined_values = []\n",
    "    for i in tqdm(range(len(turn_sampling)), desc=\"computing full track\"):\n",
    "        temp_values = np.array([[]])\n",
    "        \n",
    "        engine = hm.full_track.generate_instance(\n",
    "            all_radiuses[:,i],\n",
    "            alpha_values,\n",
    "            np.zeros(alpha_values.shape),\n",
    "            np.zeros(alpha_values.shape),\n",
    "            np.ones(alpha_values.shape, dtype=np.int) * turn_sampling[i],\n",
    "            epsilon)\n",
    "        print(\"GPU\")\n",
    "        engine.new_compute()\n",
    "        print(\"CPU\")\n",
    "        engine.accumulate_and_return(n_subdivisions)\n",
    "\n",
    "        list_count_matrix = engine.count_matrix.copy()\n",
    "        list_avg_matrix = engine.matrices.copy()\n",
    "        \n",
    "        if i == 0:\n",
    "            with open(savepath + \"data/matrices_2.pkl\", 'wb') as f:\n",
    "                pickle.dump((list_count_matrix, list_avg_matrix), f, protocol=4)\n",
    "        \n",
    "        _, _, result_total, validity_total = hm.cpu_accumulate_and_return(list_count_matrix, list_avg_matrix)\n",
    "        \n",
    "        values.append(result_total)\n",
    "        indexes.append(np.argmax(validity_total, axis=0))\n",
    "        refined_values.append([result_total[indexes[-1][i]][i] for i in range(len(indexes[-1]))])\n",
    "        raw_values.append(np.average(np.power(engine.get_data()[0], 4), axis=0))\n",
    "        # count_matrix_2[(epsilon, samples, turn_sampling[i])] = list_count_matrix\n",
    "        # average_matrix_2[(epsilon, samples, turn_sampling[i])] = list_avg_matrix\n",
    "    \n",
    "    steps = [1]\n",
    "    while True:\n",
    "        if (values[0][0].shape[0] - 1) / steps[-1] > 4:\n",
    "            steps.append(steps[-1] * 2)\n",
    "        else:\n",
    "            break\n",
    "\n",
    "    for jump in steps:\n",
    "        DA = []\n",
    "        error = []\n",
    "        DA_mc = []\n",
    "        raw_error_mc = []\n",
    "        error_mc = []\n",
    "        for i in range(len(turn_sampling)):\n",
    "            DA.append(np.power(integrate.simps(refined_values[i][::jump], alpha_preliminary_values[::jump]) * 0.5, 1/4))\n",
    "            temp = np.power(integrate.simps(refined_values[i][::jump * 2], alpha_preliminary_values[::jump * 2]) * 0.5, 1/4)\n",
    "            error.append(np.absolute(DA[-1] - temp))\n",
    "\n",
    "            DA_mc.append(np.power(np.average(refined_values[i][::jump]), 1/4))\n",
    "            raw_error_mc.append(np.std(refined_values[i][::jump]))\n",
    "            error_mc.append(0.25 * np.power(DA_mc[-1], -3) * np.std(values[i][::jump]) / np.sqrt(np.size(values[i][::jump])))\n",
    "\n",
    "        DA_2[(epsilon, len(refined_values[i][::jump]), \"refined\", \"int\")] = DA\n",
    "        error_2[(epsilon, len(refined_values[i][::jump]), \"refined\", \"int\")] = error\n",
    "        DA_2[(epsilon, len(refined_values[i][::jump]), \"refined\", \"mc\")] = DA_mc\n",
    "        error_2[(epsilon, len(refined_values[i][::jump]), \"refined\", \"mc\")] = error_mc\n",
    "        raw_error_2[(epsilon, len(refined_values[i][::jump]), \"refined\", \"mc\")] = raw_error_mc\n",
    "        \n",
    "        DA = []\n",
    "        error = []\n",
    "        DA_mc = []\n",
    "        raw_error_mc = []\n",
    "        error_mc = []\n",
    "        for i in range(len(turn_sampling)):\n",
    "            DA.append(np.power(integrate.simps(raw_values[i][::jump], alpha_preliminary_values[::jump]) * 0.5, 1/4))\n",
    "            temp = np.power(integrate.simps(raw_values[i][::jump * 2], alpha_preliminary_values[::jump * 2]) * 0.5, 1/4)\n",
    "            error.append(np.absolute(DA[-1] - temp))\n",
    "\n",
    "            DA_mc.append(np.power(np.average(raw_values[i][::jump]), 1/4))\n",
    "            raw_error_mc.append(np.std(raw_values[i][::jump]))\n",
    "            error_mc.append(0.25 * np.power(DA_mc[-1], -3) * np.std(values[i][::jump]) / np.sqrt(np.size(values[i][::jump])))\n",
    "\n",
    "        DA_2[(epsilon, len(raw_values[i][::jump]), \"raw\", \"int\")] = DA\n",
    "        error_2[(epsilon, len(raw_values[i][::jump]), \"raw\", \"int\")] = error\n",
    "        DA_2[(epsilon, len(raw_values[i][::jump]), \"raw\", \"mc\")] = DA_mc\n",
    "        error_2[(epsilon, len(raw_values[i][::jump]), \"raw\", \"mc\")] = error_mc\n",
    "        raw_error_2[(epsilon, len(raw_values[i][::jump]), \"raw\", \"mc\")] = raw_error_mc\n",
    "        \n",
    "        for j in range(len(values[0])):\n",
    "            DA = []\n",
    "            error = []\n",
    "            DA_mc = []\n",
    "            raw_error_mc = []\n",
    "            error_mc = []\n",
    "            for i in range(len(turn_sampling)):\n",
    "                DA.append(np.power(integrate.simps(values[i][j][::jump], alpha_preliminary_values[::jump]) * 0.5, 1/4))\n",
    "                temp = np.power(integrate.simps(values[i][j][::jump * 2], alpha_preliminary_values[::jump * 2]) * 0.5, 1/4)\n",
    "                error.append(np.absolute(DA[-1] - temp))\n",
    "                \n",
    "                DA_mc.append(np.power(np.average(values[i][j][::jump]), 1/4))\n",
    "                raw_error_mc.append(np.std(values[i][j][::jump]))\n",
    "                error_mc.append(0.25 * np.power(DA_mc[-1], -3) * np.std(values[i][j][::jump]) / np.sqrt(np.size(values[i][j][::jump])))\n",
    "                \n",
    "            DA_2[(epsilon, len(values[i][j][::jump]), 2 ** (j), \"int\")] = DA\n",
    "            error_2[(epsilon, len(values[i][j][::jump]), 2 ** (j), \"int\")] = error\n",
    "            DA_2[(epsilon, len(values[i][j][::jump]), 2 ** (j), \"mc\")] = DA_mc\n",
    "            error_2[(epsilon, len(values[i][j][::jump]), 2 ** (j), \"mc\")] = error_mc\n",
    "            raw_error_2[(epsilon, len(values[i][j][::jump]), 2 ** (j), \"mc\")] = raw_error_mc"
   ]
  },
  {
   "cell_type": "markdown",
   "metadata": {},
   "source": [
    "## Saving data"
   ]
  },
  {
   "cell_type": "code",
   "execution_count": 3,
   "metadata": {},
   "outputs": [],
   "source": [
    "with open(savepath + \"data/DA_2.pkl\", 'wb') as f:\n",
    "    pickle.dump(DA_2, f, protocol=4)\n",
    "    \n",
    "with open(savepath + \"data/error_2.pkl\", 'wb') as f:\n",
    "    pickle.dump(error_2, f, protocol=4)\n",
    "\n",
    "with open(savepath + \"data/raw_error_2.pkl\", 'wb') as f:\n",
    "    pickle.dump(raw_error_2, f, protocol=4)    \n",
    "\n",
    "with open(savepath + \"data/DA_5.pkl\", 'wb') as f:\n",
    "    pickle.dump(DA_5, f, protocol=4)\n",
    "    \n",
    "with open(savepath + \"data/error_5.pkl\", 'wb') as f:\n",
    "    pickle.dump(error_5, f, protocol=4)"
   ]
  },
  {
   "cell_type": "code",
   "execution_count": null,
   "metadata": {},
   "outputs": [],
   "source": []
  }
 ],
 "metadata": {
  "kernelspec": {
   "display_name": "Python 3",
   "language": "python",
   "name": "python3"
  },
  "language_info": {
   "codemirror_mode": {
    "name": "ipython",
    "version": 3
   },
   "file_extension": ".py",
   "mimetype": "text/x-python",
   "name": "python",
   "nbconvert_exporter": "python",
   "pygments_lexer": "ipython3",
   "version": "3.8.1"
  }
 },
 "nbformat": 4,
 "nbformat_minor": 4
}
