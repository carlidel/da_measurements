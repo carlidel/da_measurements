{
 "cells": [
  {
   "cell_type": "markdown",
   "metadata": {},
   "source": [
    "# Monte Carlo Scanning\n",
    "## Importing Libraries"
   ]
  },
  {
   "cell_type": "code",
   "execution_count": 1,
   "metadata": {},
   "outputs": [],
   "source": [
    "# Base libraries\n",
    "import math\n",
    "import numpy as np\n",
    "import scipy.integrate as integrate\n",
    "from tqdm import tqdm\n",
    "from scipy.special import erf\n",
    "import pickle\n",
    "import itertools\n",
    "\n",
    "from SALib.sample import saltelli\n",
    "from SALib.analyze import sobol\n",
    "\n",
    "# Personal libraries\n",
    "import henon_map as hm\n",
    "\n",
    "from parameters import *"
   ]
  },
  {
   "cell_type": "markdown",
   "metadata": {},
   "source": [
    "## Computing"
   ]
  },
  {
   "cell_type": "code",
   "execution_count": 2,
   "metadata": {},
   "outputs": [
    {
     "name": "stderr",
     "output_type": "stream",
     "text": [
      "Monte Carlo: 100%|██████████| 1/1 [00:55<00:00, 55.38s/it]\n"
     ]
    }
   ],
   "source": [
    "problem = {\n",
    "    'num_vars': 3,\n",
    "    'names': ['alpha', 'theta1', 'theta2'],\n",
    "    'bounds': [[-1, 1],\n",
    "               [0, np.pi * 2],\n",
    "               [0, np.pi * 2]]\n",
    "    }\n",
    "param_values = saltelli.sample(problem, mc_max_samples // 8 + 8)\n",
    "\n",
    "alpha = np.array([np.arccos(p[0])/2 for p in param_values])\n",
    "theta1 = np.array([p[1] for p in param_values])\n",
    "theta2 = np.array([p[2] for p in param_values])\n",
    "\n",
    "DA_3 = {}\n",
    "error_3 = {}\n",
    "data_3 = {}\n",
    "for epsilon in tqdm(epsilons, desc=\"Monte Carlo\"):\n",
    "    # Data generation\n",
    "    henon_engine = hm.radial_scan.generate_instance(d_r, alpha, theta1, theta2, epsilon, starting_position=starting_position)\n",
    "    radiuses = henon_engine.compute(turn_sampling)\n",
    "    \n",
    "    data_3[epsilon] = radiuses\n",
    "\n",
    "    # Computing DA\n",
    "    \n",
    "    for sample in mc_samples:\n",
    "        average = np.average(np.power(radiuses[:sample], 4), axis=0)\n",
    "        error = np.std(np.power(radiuses[:sample], 4), axis=0) / np.sqrt(sample)\n",
    "        DA_3[(epsilon, sample)] = np.power(average, 1/4)\n",
    "        error_3[(epsilon, sample)] = 0.25 * np.power(average, -3/4) * error\n",
    "    "
   ]
  },
  {
   "cell_type": "markdown",
   "metadata": {},
   "source": [
    "### Saving data"
   ]
  },
  {
   "cell_type": "code",
   "execution_count": 3,
   "metadata": {},
   "outputs": [],
   "source": [
    "with open(\"data/DA_3.pkl\", 'wb') as f:\n",
    "    pickle.dump(DA_3, f, protocol=4)\n",
    "    \n",
    "with open(\"data/error_3.pkl\", 'wb') as f:\n",
    "    pickle.dump(error_3, f, protocol=4)"
   ]
  }
 ],
 "metadata": {
  "kernelspec": {
   "display_name": "Python 3",
   "language": "python",
   "name": "python3"
  },
  "language_info": {
   "codemirror_mode": {
    "name": "ipython",
    "version": 3
   },
   "file_extension": ".py",
   "mimetype": "text/x-python",
   "name": "python",
   "nbconvert_exporter": "python",
   "pygments_lexer": "ipython3",
   "version": "3.8.1"
  }
 },
 "nbformat": 4,
 "nbformat_minor": 4
}
