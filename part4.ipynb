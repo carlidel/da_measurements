{
 "cells": [
  {
   "cell_type": "markdown",
   "metadata": {},
   "source": [
    "# Stratified Monte Carlo\n",
    "## Import Libraries"
   ]
  },
  {
   "cell_type": "code",
   "execution_count": 1,
   "metadata": {},
   "outputs": [],
   "source": [
    "# Base libraries\n",
    "import math\n",
    "import numpy as np\n",
    "import scipy.integrate as integrate\n",
    "from tqdm import tqdm\n",
    "from scipy.special import erf\n",
    "import pickle\n",
    "import itertools\n",
    "\n",
    "from SALib.sample import saltelli\n",
    "from SALib.analyze import sobol\n",
    "\n",
    "# Personal libraries\n",
    "import henon_map as hm\n",
    "\n",
    "from parameters import *"
   ]
  },
  {
   "cell_type": "markdown",
   "metadata": {},
   "source": [
    "## Computation"
   ]
  },
  {
   "cell_type": "code",
   "execution_count": 2,
   "metadata": {},
   "outputs": [
    {
     "name": "stderr",
     "output_type": "stream",
     "text": [
      "Stratified Monte Carlo:   0%|          | 0/1 [00:00<?, ?it/s]"
     ]
    },
    {
     "name": "stdout",
     "output_type": "stream",
     "text": [
      "Initialization...\n"
     ]
    },
    {
     "name": "stderr",
     "output_type": "stream",
     "text": [
      "\n",
      "  0%|          | 0/5 [00:00<?, ?it/s]\u001b[A"
     ]
    },
    {
     "name": "stdout",
     "output_type": "stream",
     "text": [
      "...first computation...\n"
     ]
    },
    {
     "name": "stderr",
     "output_type": "stream",
     "text": [
      "\n",
      " 20%|██        | 1/5 [00:01<00:04,  1.08s/it]\u001b[A\n",
      " 60%|██████    | 3/5 [00:01<00:01,  1.28it/s]\u001b[A\n",
      "100%|██████████| 5/5 [00:01<00:00,  3.71it/s]\u001b[A\n",
      "\n",
      "Iterations:   0%|          | 0/100 [00:00<?, ?it/s]\u001b[A"
     ]
    },
    {
     "name": "stdout",
     "output_type": "stream",
     "text": [
      "...done initializing.\n"
     ]
    },
    {
     "name": "stderr",
     "output_type": "stream",
     "text": [
      "\n",
      "Iterations:   1%|          | 1/100 [00:00<00:44,  2.23it/s]\u001b[A\n",
      "Iterations:   4%|▍         | 4/100 [00:00<00:31,  3.08it/s]\u001b[A\n",
      "Iterations:   7%|▋         | 7/100 [00:00<00:22,  4.19it/s]\u001b[A\n",
      "Iterations:  10%|█         | 10/100 [00:00<00:16,  5.59it/s]\u001b[A\n",
      "Iterations:  13%|█▎        | 13/100 [00:00<00:11,  7.34it/s]\u001b[A\n",
      "Iterations:  16%|█▌        | 16/100 [00:01<00:08,  9.35it/s]\u001b[A\n",
      "Iterations:  19%|█▉        | 19/100 [00:01<00:06, 11.61it/s]\u001b[A\n",
      "Iterations:  22%|██▏       | 22/100 [00:01<00:05, 13.88it/s]\u001b[A\n",
      "Iterations:  25%|██▌       | 25/100 [00:01<00:04, 16.12it/s]\u001b[A\n",
      "Iterations:  28%|██▊       | 28/100 [00:01<00:03, 18.10it/s]\u001b[A\n",
      "Iterations:  31%|███       | 31/100 [00:01<00:03, 19.70it/s]\u001b[A\n",
      "Iterations:  34%|███▍      | 34/100 [00:01<00:03, 21.12it/s]\u001b[A\n",
      "Iterations:  37%|███▋      | 37/100 [00:01<00:02, 22.41it/s]\u001b[A\n",
      "Iterations:  40%|████      | 40/100 [00:01<00:02, 23.35it/s]\u001b[A\n",
      "Iterations:  43%|████▎     | 43/100 [00:02<00:02, 23.76it/s]\u001b[A\n",
      "Iterations:  46%|████▌     | 46/100 [00:02<00:02, 24.30it/s]\u001b[A\n",
      "Iterations:  49%|████▉     | 49/100 [00:02<00:02, 24.80it/s]\u001b[A\n",
      "Iterations:  52%|█████▏    | 52/100 [00:02<00:01, 24.93it/s]\u001b[A\n",
      "Iterations:  55%|█████▌    | 55/100 [00:02<00:01, 25.30it/s]\u001b[A\n",
      "Iterations:  58%|█████▊    | 58/100 [00:02<00:01, 25.45it/s]\u001b[A\n",
      "Iterations:  61%|██████    | 61/100 [00:02<00:01, 25.34it/s]\u001b[A\n",
      "Iterations:  64%|██████▍   | 64/100 [00:02<00:01, 25.65it/s]\u001b[A\n",
      "Iterations:  67%|██████▋   | 67/100 [00:03<00:01, 25.14it/s]\u001b[A\n",
      "Iterations:  70%|███████   | 70/100 [00:03<00:01, 25.13it/s]\u001b[A\n",
      "Iterations:  73%|███████▎  | 73/100 [00:03<00:01, 25.23it/s]\u001b[A\n",
      "Iterations:  76%|███████▌  | 76/100 [00:03<00:00, 25.66it/s]\u001b[A\n",
      "Iterations:  79%|███████▉  | 79/100 [00:03<00:00, 25.31it/s]\u001b[A\n",
      "Iterations:  82%|████████▏ | 82/100 [00:03<00:00, 25.43it/s]\u001b[A\n",
      "Iterations:  85%|████████▌ | 85/100 [00:03<00:00, 25.41it/s]\u001b[A\n",
      "Iterations:  88%|████████▊ | 88/100 [00:03<00:00, 25.73it/s]\u001b[A\n",
      "Iterations:  91%|█████████ | 91/100 [00:03<00:00, 26.07it/s]\u001b[A\n",
      "Iterations:  94%|█████████▍| 94/100 [00:04<00:00, 26.10it/s]\u001b[A\n",
      "Iterations:  97%|█████████▋| 97/100 [00:04<00:00, 26.21it/s]\u001b[A\n",
      "Iterations: 100%|██████████| 100/100 [00:04<00:00, 23.36it/s]\u001b[A\n",
      "Stratified Monte Carlo: 100%|██████████| 1/1 [00:09<00:00,  9.53s/it]\n"
     ]
    }
   ],
   "source": [
    "from stratified_mc import stratified_mc\n",
    "\n",
    "DA_4 = {}\n",
    "error_4 = {}\n",
    "\n",
    "d_samples = mcs_samples[1] - mcs_samples[0]\n",
    "\n",
    "for epsilon in tqdm(epsilons, desc=\"Stratified Monte Carlo\"):\n",
    "    engine = stratified_mc(mcs_n_sectors, mcs_max_samples, turn_sampling, d_r, epsilon, starting_position)\n",
    "    for iters in tqdm(mcs_samples, desc=\"Iterations\"):\n",
    "        engine.compute(d_samples)\n",
    "        average, variance = engine.get_result()\n",
    "        \n",
    "        DA_4[(epsilon, iters)] = np.power(average, 1/4) \n",
    "        error_4[(epsilon, iters)] = 0.25 * np.power(average, -3/4) * variance "
   ]
  },
  {
   "cell_type": "markdown",
   "metadata": {},
   "source": [
    "### Saving data"
   ]
  },
  {
   "cell_type": "code",
   "execution_count": 3,
   "metadata": {},
   "outputs": [],
   "source": [
    "with open(savepath + \"data/DA_4.pkl\", 'wb') as f:\n",
    "    pickle.dump(DA_4, f, protocol=4)\n",
    "\n",
    "with open(savepath + \"data/error_4.pkl\", 'wb') as f:\n",
    "    pickle.dump(error_4, f, protocol=4)"
   ]
  },
  {
   "cell_type": "code",
   "execution_count": null,
   "metadata": {},
   "outputs": [],
   "source": []
  }
 ],
 "metadata": {
  "kernelspec": {
   "display_name": "Python 3",
   "language": "python",
   "name": "python3"
  },
  "language_info": {
   "codemirror_mode": {
    "name": "ipython",
    "version": 3
   },
   "file_extension": ".py",
   "mimetype": "text/x-python",
   "name": "python",
   "nbconvert_exporter": "python",
   "pygments_lexer": "ipython3",
   "version": "3.8.1"
  }
 },
 "nbformat": 4,
 "nbformat_minor": 4
}
