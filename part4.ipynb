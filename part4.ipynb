{
 "cells": [
  {
   "cell_type": "markdown",
   "metadata": {},
   "source": [
    "# Stratified Monte Carlo\n",
    "## Import Libraries"
   ]
  },
  {
   "cell_type": "code",
   "execution_count": 1,
   "metadata": {},
   "outputs": [],
   "source": [
    "# Base libraries\n",
    "import math\n",
    "import numpy as np\n",
    "import scipy.integrate as integrate\n",
    "from tqdm import tqdm\n",
    "from scipy.special import erf\n",
    "import pickle\n",
    "import itertools\n",
    "\n",
    "from SALib.sample import saltelli\n",
    "from SALib.analyze import sobol\n",
    "\n",
    "# Personal libraries\n",
    "import henon_map as hm\n",
    "\n",
    "from parameters import *"
   ]
  },
  {
   "cell_type": "markdown",
   "metadata": {},
   "source": [
    "## Computation"
   ]
  },
  {
   "cell_type": "code",
   "execution_count": 2,
   "metadata": {},
   "outputs": [
    {
     "name": "stderr",
     "output_type": "stream",
     "text": [
      "Stratified Monte Carlo:   0%|          | 0/1 [00:00<?, ?it/s]"
     ]
    },
    {
     "name": "stdout",
     "output_type": "stream",
     "text": [
      "Initialization...\n"
     ]
    },
    {
     "name": "stderr",
     "output_type": "stream",
     "text": [
      "\n",
      "  0%|          | 0/5 [00:00<?, ?it/s]\u001b[A"
     ]
    },
    {
     "name": "stdout",
     "output_type": "stream",
     "text": [
      "...first computation...\n"
     ]
    },
    {
     "name": "stderr",
     "output_type": "stream",
     "text": [
      "\n",
      " 20%|██        | 1/5 [00:01<00:06,  1.67s/it]\u001b[A\n",
      " 40%|████      | 2/5 [00:02<00:04,  1.38s/it]\u001b[A\n",
      " 60%|██████    | 3/5 [00:03<00:02,  1.17s/it]\u001b[A\n",
      " 80%|████████  | 4/5 [00:03<00:01,  1.02s/it]\u001b[A\n",
      "100%|██████████| 5/5 [00:04<00:00,  1.15it/s]\u001b[A\n",
      "\n",
      "Iterations:   0%|          | 0/10 [00:00<?, ?it/s]\u001b[A"
     ]
    },
    {
     "name": "stdout",
     "output_type": "stream",
     "text": [
      "...done initializing.\n"
     ]
    },
    {
     "name": "stderr",
     "output_type": "stream",
     "text": [
      "\n",
      "Iterations:  10%|█         | 1/10 [00:02<00:26,  2.99s/it]\u001b[A\n",
      "Iterations:  20%|██        | 2/10 [00:06<00:24,  3.09s/it]\u001b[A\n",
      "Iterations:  30%|███       | 3/10 [00:09<00:22,  3.15s/it]\u001b[A\n",
      "Iterations:  40%|████      | 4/10 [00:12<00:18,  3.16s/it]\u001b[A\n",
      "Iterations:  50%|█████     | 5/10 [00:15<00:15,  3.17s/it]\u001b[A\n",
      "Iterations:  60%|██████    | 6/10 [00:19<00:12,  3.13s/it]\u001b[A\n",
      "Iterations:  70%|███████   | 7/10 [00:21<00:09,  3.06s/it]\u001b[A\n",
      "Iterations:  80%|████████  | 8/10 [00:24<00:06,  3.04s/it]\u001b[A\n",
      "Iterations:  90%|█████████ | 9/10 [00:27<00:03,  3.05s/it]\u001b[A\n",
      "Iterations: 100%|██████████| 10/10 [00:30<00:00,  3.09s/it]\u001b[A\n",
      "Stratified Monte Carlo: 100%|██████████| 1/1 [00:40<00:00, 40.85s/it]\n"
     ]
    }
   ],
   "source": [
    "from stratified_mc import stratified_mc\n",
    "\n",
    "DA_4 = {}\n",
    "error_4 = {}\n",
    "\n",
    "d_samples = mcs_samples[1] - mcs_samples[0]\n",
    "\n",
    "for epsilon in tqdm(epsilons, desc=\"Stratified Monte Carlo\"):\n",
    "    engine = stratified_mc(mcs_n_sectors, mcs_max_samples, turn_sampling, d_r, epsilon)\n",
    "    for iters in tqdm(mcs_samples, desc=\"Iterations\"):\n",
    "        engine.compute(d_samples)\n",
    "        average, variance = engine.get_result()\n",
    "        \n",
    "        DA_4[(epsilon, iters)] = np.power(average, 1/4) \n",
    "        error_4[(epsilon, iters)] = 0.25 * np.power(average, -3/4) * variance "
   ]
  },
  {
   "cell_type": "markdown",
   "metadata": {},
   "source": [
    "### Saving data"
   ]
  },
  {
   "cell_type": "code",
   "execution_count": 3,
   "metadata": {},
   "outputs": [],
   "source": [
    "with open(\"data/DA_4.pkl\", 'wb') as f:\n",
    "    pickle.dump(DA_4, f)\n",
    "\n",
    "with open(\"data/error_4.pkl\", 'wb') as f:\n",
    "    pickle.dump(error_4, f)"
   ]
  }
 ],
 "metadata": {
  "kernelspec": {
   "display_name": "Python 3",
   "language": "python",
   "name": "python3"
  },
  "language_info": {
   "codemirror_mode": {
    "name": "ipython",
    "version": 3
   },
   "file_extension": ".py",
   "mimetype": "text/x-python",
   "name": "python",
   "nbconvert_exporter": "python",
   "pygments_lexer": "ipython3",
   "version": "3.8.1"
  }
 },
 "nbformat": 4,
 "nbformat_minor": 4
}
