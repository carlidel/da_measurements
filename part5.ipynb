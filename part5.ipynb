{
 "cells": [
  {
   "cell_type": "markdown",
   "metadata": {},
   "source": [
    "# 2D Scanning\n",
    "## Import libraries"
   ]
  },
  {
   "cell_type": "code",
   "execution_count": 1,
   "metadata": {},
   "outputs": [],
   "source": [
    "# Base libraries\n",
    "import math\n",
    "import numpy as np\n",
    "import scipy.integrate as integrate\n",
    "from tqdm import tqdm\n",
    "from scipy.special import erf\n",
    "import pickle\n",
    "import itertools\n",
    "\n",
    "from SALib.sample import saltelli\n",
    "from SALib.analyze import sobol\n",
    "\n",
    "# Personal libraries\n",
    "import henon_map as hm\n",
    "\n",
    "from parameters import *"
   ]
  },
  {
   "cell_type": "markdown",
   "metadata": {},
   "source": [
    "## Computing"
   ]
  },
  {
   "cell_type": "code",
   "execution_count": 3,
   "metadata": {},
   "outputs": [
    {
     "name": "stderr",
     "output_type": "stream",
     "text": [
      "2D scan: 100%|██████████| 1/1 [00:04<00:00,  4.75s/it]\n"
     ]
    }
   ],
   "source": [
    "data_5 = {}\n",
    "DA_5 = {}\n",
    "error_5 = {}\n",
    "\n",
    "alpha_values = np.linspace(0, np.pi * 0.5, alpha_max_samples)\n",
    "\n",
    "for epsilon in tqdm(epsilons, desc=\"2D scan\"):\n",
    "    henon_engine = hm.radial_scan.generate_instance(d_r, alpha_values, np.zeros(alpha_values.shape), np.zeros(alpha_values.shape), epsilon)\n",
    "    radiuses = henon_engine.compute(turn_sampling)\n",
    "    data_5[(epsilon)] = radiuses\n",
    "\n",
    "    skips = [1]\n",
    "    while True:\n",
    "        if (alpha_max_samples - 1) // skips[-1] > 4:\n",
    "            skips.append(skips[-1] * 2)\n",
    "        else:\n",
    "            break\n",
    "    \n",
    "    for i in skips:\n",
    "        alpha = alpha_values[::i]\n",
    "        d_alpha = alpha[1] - alpha[0]\n",
    "        cutted_radiuses = radiuses[::i]\n",
    "        value = integrate.simps(cutted_radiuses ** 2, alpha, axis=0)\n",
    "        less_value = integrate.simps(cutted_radiuses[::2] ** 2, alpha[::2], axis=0)\n",
    "        uncertainty = np.abs((value - less_value))\n",
    "        \n",
    "        DA = np.sqrt(value * 2 / np.pi)\n",
    "        uncertainty = 0.5 * np.power(value * 2 / np.pi, -0.5) * uncertainty\n",
    "        DA_5[(epsilon, cutted_radiuses.shape)] = np.asarray(DA)\n",
    "        error_5[(epsilon, cutted_radiuses.shape)] = uncertainty "
   ]
  },
  {
   "cell_type": "markdown",
   "metadata": {},
   "source": [
    "### Saving Data"
   ]
  },
  {
   "cell_type": "code",
   "execution_count": 6,
   "metadata": {},
   "outputs": [],
   "source": [
    "with open(\"data/DA_5.pkl\", 'wb') as f:\n",
    "    pickle.dump(DA_5, f)\n",
    "    \n",
    "with open(\"data/error_5.pkl\", 'wb') as f:\n",
    "    pickle.dump(error_5, f)"
   ]
  }
 ],
 "metadata": {
  "kernelspec": {
   "display_name": "Python 3",
   "language": "python",
   "name": "python3"
  },
  "language_info": {
   "codemirror_mode": {
    "name": "ipython",
    "version": 3
   },
   "file_extension": ".py",
   "mimetype": "text/x-python",
   "name": "python",
   "nbconvert_exporter": "python",
   "pygments_lexer": "ipython3",
   "version": "3.8.1"
  }
 },
 "nbformat": 4,
 "nbformat_minor": 4
}
